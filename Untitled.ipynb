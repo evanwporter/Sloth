{
 "cells": [
  {
   "cell_type": "code",
   "execution_count": 13,
   "id": "ce0c0410-c8b2-4dd3-beb7-becc633611e7",
   "metadata": {},
   "outputs": [],
   "source": [
    "import numpy as np\n",
    "from sloth import DataFrame\n",
    "import pandas as pd"
   ]
  },
  {
   "cell_type": "code",
   "execution_count": 5,
   "id": "7c7d0962-b3c6-411f-a8e7-b568404e3b41",
   "metadata": {},
   "outputs": [],
   "source": [
    "values = np.array([\n",
    "    [1.0, 2.0, 3.0],\n",
    "    [4.0, 5.0, 6.0],\n",
    "    [7.0, 8.0, 9.0]\n",
    "])\n",
    "\n",
    "index_np = np.array([\"row1\", \"row2\", \"row3\"])\n",
    "columns_np = np.array([\"col1\", \"col2\", \"col3\"])\n",
    "\n",
    "# Create DataFrame with NumPy arrays\n",
    "df = DataFrame(values, index_np, columns_np)"
   ]
  },
  {
   "cell_type": "code",
   "execution_count": 18,
   "id": "809dcd21-ec88-4e10-87e1-617aaba7bd9f",
   "metadata": {},
   "outputs": [
    {
     "data": {
      "text/plain": [
       "[6.0, 15.0, 24.0]"
      ]
     },
     "execution_count": 18,
     "metadata": {},
     "output_type": "execute_result"
    }
   ],
   "source": [
    "df.sum(0)"
   ]
  },
  {
   "cell_type": "code",
   "execution_count": 10,
   "id": "3e0aae31-769f-4525-8efe-e7b1e7b98809",
   "metadata": {},
   "outputs": [
    {
     "name": "stdout",
     "output_type": "stream",
     "text": [
      "4.28 µs ± 175 ns per loop (mean ± std. dev. of 7 runs, 100,000 loops each)\n"
     ]
    }
   ],
   "source": [
    "%timeit values.sum(axis=1)"
   ]
  },
  {
   "cell_type": "code",
   "execution_count": 16,
   "id": "886deb9e-e149-464a-b654-22756f270ee0",
   "metadata": {},
   "outputs": [],
   "source": [
    "pdf = pd.DataFrame(values, index_np, columns_np)"
   ]
  },
  {
   "cell_type": "code",
   "execution_count": 19,
   "id": "ac1623f8-74ec-4808-887f-ca3bcf9a733c",
   "metadata": {},
   "outputs": [
    {
     "name": "stdout",
     "output_type": "stream",
     "text": [
      "459 µs ± 17.9 µs per loop (mean ± std. dev. of 7 runs, 1,000 loops each)\n"
     ]
    }
   ],
   "source": [
    "%timeit pdf.sum(axis=1)"
   ]
  },
  {
   "cell_type": "code",
   "execution_count": null,
   "id": "76bac5c7-1177-45bd-8414-fd59115105be",
   "metadata": {},
   "outputs": [],
   "source": []
  }
 ],
 "metadata": {
  "kernelspec": {
   "display_name": "Python 3 (ipykernel)",
   "language": "python",
   "name": "python3"
  },
  "language_info": {
   "codemirror_mode": {
    "name": "ipython",
    "version": 3
   },
   "file_extension": ".py",
   "mimetype": "text/x-python",
   "name": "python",
   "nbconvert_exporter": "python",
   "pygments_lexer": "ipython3",
   "version": "3.12.3"
  }
 },
 "nbformat": 4,
 "nbformat_minor": 5
}
