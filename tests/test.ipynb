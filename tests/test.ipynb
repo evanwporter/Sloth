{
 "cells": [
  {
   "cell_type": "code",
   "execution_count": 35,
   "id": "54b2519e",
   "metadata": {},
   "outputs": [],
   "source": [
    "import Sloth as sl\n",
    "import pandas as pd\n",
    "import numpy as np"
   ]
  },
  {
   "cell_type": "code",
   "execution_count": 36,
   "id": "692daf66",
   "metadata": {},
   "outputs": [],
   "source": [
    "pdf = pd.read_csv(r\"GOOG.csv\", index_col=0, parse_dates=True, infer_datetime_format=True)\n",
    "sdf = sl.DataFrame.from_pandas(pdf)"
   ]
  },
  {
   "cell_type": "code",
   "execution_count": 4,
   "id": "90020bc9",
   "metadata": {},
   "outputs": [],
   "source": [
    "%load_ext Cython"
   ]
  },
  {
   "cell_type": "code",
   "execution_count": 34,
   "id": "b4cb31ff",
   "metadata": {},
   "outputs": [],
   "source": [
    "%%cython\n",
    "from Sloth.frame cimport Series, DataFrame\n",
    "\n",
    "cdef Series h_str_1(DataFrame self, str arg):\n",
    "    return Series(\n",
    "        # A 1d numpy array\n",
    "        values=self.values[:, self.columns.get_item(arg)], \n",
    "        index=self.index, \n",
    "        name=arg\n",
    "    ) \n",
    "\n",
    "def get_1(df, arg):\n",
    "    return h_str_1(df, arg)"
   ]
  },
  {
   "cell_type": "code",
   "execution_count": 28,
   "id": "dfe88eed",
   "metadata": {},
   "outputs": [],
   "source": [
    "%%cython\n",
    "from Sloth.frame cimport Series, DataFrame\n",
    "cimport numpy as np\n",
    "import numpy as np\n",
    "\n",
    "cdef Series h_2(DataFrame self, str arg):\n",
    "    cdef int col_idx = self.columns.get_item(arg)\n",
    "    cdef int nrows = self.values.shape[0]\n",
    "    cdef np.ndarray[np.float64_t, ndim=1] col_values = np.empty(nrows, dtype=np.float64)\n",
    "    cdef int i\n",
    "\n",
    "    for i in range(nrows):\n",
    "        col_values[i] = self.values[i, col_idx]\n",
    "\n",
    "    return Series(\n",
    "        values=col_values,\n",
    "        index=self.index,\n",
    "        name=arg\n",
    "    )\n",
    "\n",
    "def get_2(df, arg):\n",
    "    return h_2(df, arg)"
   ]
  },
  {
   "cell_type": "code",
   "execution_count": 32,
   "id": "bcd1d7f6",
   "metadata": {},
   "outputs": [],
   "source": [
    "%%cython\n",
    "from Sloth.frame cimport Series, DataFrame\n",
    "cimport numpy as np\n",
    "import numpy as np\n",
    "from libc.stdlib cimport malloc, free\n",
    "\n",
    "\n",
    "cdef Series h_3(self, arg):\n",
    "    cdef int col_idx = self.columns.get_item(arg)\n",
    "    cdef int nrows = self.values.shape[0]\n",
    "    cdef double* col_values = <double*>malloc(nrows * sizeof(double))\n",
    "    cdef int i\n",
    "\n",
    "    # Accessing array elements using pointers\n",
    "    for i in range(nrows):\n",
    "        col_values[i] = self.values[i, col_idx]\n",
    "\n",
    "    # Convert the pointer array to numpy array\n",
    "    col_values_np = np.asarray(<double[:nrows]>col_values).copy()\n",
    "    free(col_values)\n",
    "\n",
    "    return Series(\n",
    "        values=col_values_np,\n",
    "        index=self.index,\n",
    "        name=arg\n",
    "    )\n",
    "\n",
    "def get_3(df, arg):\n",
    "    return h_3(df, arg)"
   ]
  },
  {
   "cell_type": "code",
   "execution_count": 23,
   "id": "66ee701a",
   "metadata": {},
   "outputs": [
    {
     "name": "stdout",
     "output_type": "stream",
     "text": [
      "3.68 µs ± 82.6 ns per loop (mean ± std. dev. of 7 runs, 100,000 loops each)\n"
     ]
    }
   ],
   "source": [
    "%timeit get_1(sdf, \"Open\")"
   ]
  },
  {
   "cell_type": "code",
   "execution_count": 29,
   "id": "5e801ee1",
   "metadata": {},
   "outputs": [
    {
     "name": "stdout",
     "output_type": "stream",
     "text": [
      "624 µs ± 13.6 µs per loop (mean ± std. dev. of 7 runs, 1,000 loops each)\n"
     ]
    }
   ],
   "source": [
    "%timeit get_2(sdf, \"Open\")"
   ]
  },
  {
   "cell_type": "code",
   "execution_count": 33,
   "id": "2a48c287",
   "metadata": {},
   "outputs": [
    {
     "name": "stdout",
     "output_type": "stream",
     "text": [
      "761 µs ± 332 µs per loop (mean ± std. dev. of 7 runs, 1,000 loops each)\n"
     ]
    }
   ],
   "source": [
    "%timeit get_3(sdf, \"Open\")"
   ]
  },
  {
   "cell_type": "code",
   "execution_count": 48,
   "id": "28ed04b2",
   "metadata": {},
   "outputs": [],
   "source": [
    "%%cython \n",
    "\n",
    "import numpy as np\n",
    "\n",
    "int[] \n",
    "\n",
    "a = np.array([1, 2, 3]).view()\n",
    "print(a)\n",
    "\n",
    "a[0] = 5\n",
    "\n",
    "print(a)"
   ]
  },
  {
   "cell_type": "code",
   "execution_count": 47,
   "id": "fefd9c46",
   "metadata": {},
   "outputs": [
    {
     "name": "stdout",
     "output_type": "stream",
     "text": [
      "6 6\n"
     ]
    }
   ],
   "source": [
    "%%cython\n",
    "\n",
    "from libc.stdio cimport printf\n",
    "\n",
    "cdef int b = 5\n",
    "cdef int *c = &b\n",
    "b = 6\n",
    "\n",
    "print(b, <int> c[0])\n"
   ]
  },
  {
   "cell_type": "code",
   "execution_count": 52,
   "id": "3889bc70",
   "metadata": {},
   "outputs": [],
   "source": [
    "%%cython\n",
    "import numpy as np\n",
    "cimport numpy as np\n",
    "\n",
    "def modify_array(np.ndarray[np.float64_t, ndim=1] arr):\n",
    "    \"\"\"\n",
    "    Create a new NumPy array with modified elements from the input array.\n",
    "    \"\"\"\n",
    "    cdef int n = arr.shape[0]\n",
    "    cdef np.ndarray[np.float64_t, ndim=1] new_arr = np.empty(n, dtype=np.float64)  # Allocate new array\n",
    "    cdef double* input_ptr = <double*> arr.data  # Pointer to input array data\n",
    "    cdef double* new_ptr = <double*> new_arr.data  # Pointer to new array data\n",
    "    cdef int i\n",
    "    \n",
    "    for i in range(n):\n",
    "        new_ptr[i] = input_ptr[i] * 2  # Example operation: doubling each element\n",
    "    \n",
    "    return new_arr\n"
   ]
  },
  {
   "cell_type": "code",
   "execution_count": 55,
   "id": "8339788f",
   "metadata": {},
   "outputs": [
    {
     "name": "stdout",
     "output_type": "stream",
     "text": [
      "Before modification: [1. 2. 3. 4.]\n",
      "After modification: [2. 4. 6. 8.]\n"
     ]
    }
   ],
   "source": [
    "import numpy as np\n",
    "\n",
    "# Create a NumPy array\n",
    "arr = np.array([1.0, 2.0, 3.0, 4.0], dtype=np.float64)\n",
    "\n",
    "print(\"Before modification:\", arr)\n",
    "\n",
    "# Call the Cython function\n",
    "a2 = modify_array(arr)\n",
    "\n",
    "print(\"After modification:\", a2)\n"
   ]
  },
  {
   "cell_type": "code",
   "execution_count": 56,
   "id": "74e4a916",
   "metadata": {},
   "outputs": [
    {
     "data": {
      "text/plain": [
       "<memory at 0x0000027A4B220DC0>"
      ]
     },
     "execution_count": 56,
     "metadata": {},
     "output_type": "execute_result"
    }
   ],
   "source": [
    "arr.data"
   ]
  },
  {
   "cell_type": "code",
   "execution_count": 54,
   "id": "58a9de39",
   "metadata": {},
   "outputs": [
    {
     "name": "stdout",
     "output_type": "stream",
     "text": [
      "597 ns ± 16.5 ns per loop (mean ± std. dev. of 7 runs, 1,000,000 loops each)\n",
      "1.33 µs ± 28.8 ns per loop (mean ± std. dev. of 7 runs, 1,000,000 loops each)\n"
     ]
    }
   ],
   "source": [
    "%timeit modify_array(arr)\n",
    "%timeit arr * 2"
   ]
  }
 ],
 "metadata": {
  "kernelspec": {
   "display_name": "Python 3 (ipykernel)",
   "language": "python",
   "name": "python3"
  },
  "language_info": {
   "codemirror_mode": {
    "name": "ipython",
    "version": 3
   },
   "file_extension": ".py",
   "mimetype": "text/x-python",
   "name": "python",
   "nbconvert_exporter": "python",
   "pygments_lexer": "ipython3",
   "version": "3.9.5"
  }
 },
 "nbformat": 4,
 "nbformat_minor": 5
}
