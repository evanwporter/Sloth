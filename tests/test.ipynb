{
 "cells": [
  {
   "cell_type": "code",
   "execution_count": 1,
   "id": "54b2519e",
   "metadata": {},
   "outputs": [],
   "source": [
    "import Sloth as sl\n",
    "import pandas as pd\n",
    "import numpy as np"
   ]
  },
  {
   "cell_type": "code",
   "execution_count": 2,
   "id": "692daf66",
   "metadata": {},
   "outputs": [],
   "source": [
    "pdf = pd.read_csv(r\"GOOG.csv\", index_col=0, parse_dates=True, infer_datetime_format=True)\n",
    "sdf = sl.DataFrame.from_pandas(pdf)"
   ]
  },
  {
   "cell_type": "code",
   "execution_count": 3,
   "id": "90020bc9",
   "metadata": {},
   "outputs": [],
   "source": [
    "%load_ext Cython"
   ]
  },
  {
   "cell_type": "code",
   "execution_count": 4,
   "id": "d052fc4e-b277-4298-8428-0e8db9604895",
   "metadata": {},
   "outputs": [
    {
     "data": {
      "text/html": [
       "<div>\n",
       "<style scoped>\n",
       "    .dataframe tbody tr th:only-of-type {\n",
       "        vertical-align: middle;\n",
       "    }\n",
       "\n",
       "    .dataframe tbody tr th {\n",
       "        vertical-align: top;\n",
       "    }\n",
       "\n",
       "    .dataframe thead th {\n",
       "        text-align: right;\n",
       "    }\n",
       "</style>\n",
       "<table border=\"1\" class=\"dataframe\">\n",
       "  <thead>\n",
       "    <tr style=\"text-align: right;\">\n",
       "      <th></th>\n",
       "      <th>Open</th>\n",
       "      <th>High</th>\n",
       "      <th>Low</th>\n",
       "      <th>Close</th>\n",
       "      <th>Volume</th>\n",
       "    </tr>\n",
       "  </thead>\n",
       "  <tbody>\n",
       "    <tr>\n",
       "      <th>2004-08-19</th>\n",
       "      <td>100.00</td>\n",
       "      <td>104.06</td>\n",
       "      <td>95.96</td>\n",
       "      <td>100.34</td>\n",
       "      <td>22351900</td>\n",
       "    </tr>\n",
       "    <tr>\n",
       "      <th>2004-08-20</th>\n",
       "      <td>101.01</td>\n",
       "      <td>109.08</td>\n",
       "      <td>100.50</td>\n",
       "      <td>108.31</td>\n",
       "      <td>11428600</td>\n",
       "    </tr>\n",
       "    <tr>\n",
       "      <th>2004-08-23</th>\n",
       "      <td>110.75</td>\n",
       "      <td>113.48</td>\n",
       "      <td>109.05</td>\n",
       "      <td>109.40</td>\n",
       "      <td>9137200</td>\n",
       "    </tr>\n",
       "    <tr>\n",
       "      <th>2004-08-24</th>\n",
       "      <td>111.24</td>\n",
       "      <td>111.60</td>\n",
       "      <td>103.57</td>\n",
       "      <td>104.87</td>\n",
       "      <td>7631300</td>\n",
       "    </tr>\n",
       "    <tr>\n",
       "      <th>2004-08-25</th>\n",
       "      <td>104.96</td>\n",
       "      <td>108.00</td>\n",
       "      <td>103.88</td>\n",
       "      <td>106.00</td>\n",
       "      <td>4598900</td>\n",
       "    </tr>\n",
       "    <tr>\n",
       "      <th>...</th>\n",
       "      <td>...</td>\n",
       "      <td>...</td>\n",
       "      <td>...</td>\n",
       "      <td>...</td>\n",
       "      <td>...</td>\n",
       "    </tr>\n",
       "    <tr>\n",
       "      <th>2013-02-25</th>\n",
       "      <td>802.30</td>\n",
       "      <td>808.41</td>\n",
       "      <td>790.49</td>\n",
       "      <td>790.77</td>\n",
       "      <td>2303900</td>\n",
       "    </tr>\n",
       "    <tr>\n",
       "      <th>2013-02-26</th>\n",
       "      <td>795.00</td>\n",
       "      <td>795.95</td>\n",
       "      <td>784.40</td>\n",
       "      <td>790.13</td>\n",
       "      <td>2202500</td>\n",
       "    </tr>\n",
       "    <tr>\n",
       "      <th>2013-02-27</th>\n",
       "      <td>794.80</td>\n",
       "      <td>804.75</td>\n",
       "      <td>791.11</td>\n",
       "      <td>799.78</td>\n",
       "      <td>2026100</td>\n",
       "    </tr>\n",
       "    <tr>\n",
       "      <th>2013-02-28</th>\n",
       "      <td>801.10</td>\n",
       "      <td>806.99</td>\n",
       "      <td>801.03</td>\n",
       "      <td>801.20</td>\n",
       "      <td>2265800</td>\n",
       "    </tr>\n",
       "    <tr>\n",
       "      <th>2013-03-01</th>\n",
       "      <td>797.80</td>\n",
       "      <td>807.14</td>\n",
       "      <td>796.15</td>\n",
       "      <td>806.19</td>\n",
       "      <td>2175400</td>\n",
       "    </tr>\n",
       "  </tbody>\n",
       "</table>\n",
       "<p>2148 rows × 5 columns</p>\n",
       "</div>"
      ],
      "text/plain": [
       "              Open    High     Low   Close    Volume\n",
       "2004-08-19  100.00  104.06   95.96  100.34  22351900\n",
       "2004-08-20  101.01  109.08  100.50  108.31  11428600\n",
       "2004-08-23  110.75  113.48  109.05  109.40   9137200\n",
       "2004-08-24  111.24  111.60  103.57  104.87   7631300\n",
       "2004-08-25  104.96  108.00  103.88  106.00   4598900\n",
       "...            ...     ...     ...     ...       ...\n",
       "2013-02-25  802.30  808.41  790.49  790.77   2303900\n",
       "2013-02-26  795.00  795.95  784.40  790.13   2202500\n",
       "2013-02-27  794.80  804.75  791.11  799.78   2026100\n",
       "2013-02-28  801.10  806.99  801.03  801.20   2265800\n",
       "2013-03-01  797.80  807.14  796.15  806.19   2175400\n",
       "\n",
       "[2148 rows x 5 columns]"
      ]
     },
     "execution_count": 4,
     "metadata": {},
     "output_type": "execute_result"
    }
   ],
   "source": [
    "pdf"
   ]
  },
  {
   "cell_type": "code",
   "execution_count": 5,
   "id": "d088f593-2727-4a33-8111-e1d5a06e0f2d",
   "metadata": {},
   "outputs": [
    {
     "data": {
      "text/plain": [
       "True"
      ]
     },
     "execution_count": 5,
     "metadata": {},
     "output_type": "execute_result"
    }
   ],
   "source": [
    "(pdf.Open > 0).all()"
   ]
  },
  {
   "cell_type": "code",
   "execution_count": 6,
   "id": "92c2b0d2-210d-4982-b787-6dd165887ade",
   "metadata": {},
   "outputs": [
    {
     "data": {
      "text/plain": [
       "True"
      ]
     },
     "execution_count": 6,
     "metadata": {},
     "output_type": "execute_result"
    }
   ],
   "source": [
    "pdf.Open.all()"
   ]
  },
  {
   "cell_type": "code",
   "execution_count": 11,
   "id": "98e4d5e3-a9c6-46cc-a15e-ac41adaf940d",
   "metadata": {},
   "outputs": [
    {
     "data": {
      "text/plain": [
       "True"
      ]
     },
     "execution_count": 11,
     "metadata": {},
     "output_type": "execute_result"
    }
   ],
   "source": [
    "(sdf.Open > 1).all()"
   ]
  },
  {
   "cell_type": "code",
   "execution_count": null,
   "id": "ea7354dd-a7e1-4813-81c5-3c1c683b4936",
   "metadata": {},
   "outputs": [],
   "source": [
    "self.values"
   ]
  },
  {
   "cell_type": "code",
   "execution_count": 9,
   "id": "d15fa34a-63c8-48af-aea0-ccf23e771d21",
   "metadata": {},
   "outputs": [
    {
     "data": {
      "text/plain": [
       "False"
      ]
     },
     "execution_count": 9,
     "metadata": {},
     "output_type": "execute_result"
    }
   ],
   "source": [
    "s.all()"
   ]
  },
  {
   "cell_type": "code",
   "execution_count": null,
   "id": "b4cb31ff",
   "metadata": {},
   "outputs": [],
   "source": [
    "%%cython\n",
    "from Sloth.frame cimport Series, DataFrame\n",
    "\n",
    "cdef Series h_str_1(DataFrame self, str arg):\n",
    "    return Series(\n",
    "        # A 1d numpy array\n",
    "        values=self.values[:, self.columns.get_item(arg)], \n",
    "        index=self.index, \n",
    "        name=arg\n",
    "    ) \n",
    "\n",
    "def get_1(df, arg):\n",
    "    return h_str_1(df, arg)"
   ]
  },
  {
   "cell_type": "code",
   "execution_count": null,
   "id": "dfe88eed",
   "metadata": {},
   "outputs": [],
   "source": [
    "%%cython\n",
    "from Sloth.frame cimport Series, DataFrame\n",
    "cimport numpy as np\n",
    "import numpy as np\n",
    "\n",
    "cdef Series h_2(DataFrame self, str arg):\n",
    "    cdef int col_idx = self.columns.get_item(arg)\n",
    "    cdef int nrows = self.values.shape[0]\n",
    "    cdef np.ndarray[np.float64_t, ndim=1] col_values = np.empty(nrows, dtype=np.float64)\n",
    "    cdef int i\n",
    "\n",
    "    for i in range(nrows):\n",
    "        col_values[i] = self.values[i, col_idx]\n",
    "\n",
    "    return Series(\n",
    "        values=col_values,\n",
    "        index=self.index,\n",
    "        name=arg\n",
    "    )\n",
    "\n",
    "def get_2(df, arg):\n",
    "    return h_2(df, arg)"
   ]
  },
  {
   "cell_type": "code",
   "execution_count": null,
   "id": "bcd1d7f6",
   "metadata": {},
   "outputs": [],
   "source": [
    "%%cython\n",
    "from Sloth.frame cimport Series, DataFrame\n",
    "cimport numpy as np\n",
    "import numpy as np\n",
    "from libc.stdlib cimport malloc, free\n",
    "\n",
    "\n",
    "cdef Series h_3(self, arg):\n",
    "    cdef int col_idx = self.columns.get_item(arg)\n",
    "    cdef int nrows = self.values.shape[0]\n",
    "    cdef double* col_values = <double*>malloc(nrows * sizeof(double))\n",
    "    cdef int i\n",
    "\n",
    "    # Accessing array elements using pointers\n",
    "    for i in range(nrows):\n",
    "        col_values[i] = self.values[i, col_idx]\n",
    "\n",
    "    # Convert the pointer array to numpy array\n",
    "    col_values_np = np.asarray(<double[:nrows]>col_values).copy()\n",
    "    free(col_values)\n",
    "\n",
    "    return Series(\n",
    "        values=col_values_np,\n",
    "        index=self.index,\n",
    "        name=arg\n",
    "    )\n",
    "\n",
    "def get_3(df, arg):\n",
    "    return h_3(df, arg)"
   ]
  },
  {
   "cell_type": "code",
   "execution_count": null,
   "id": "66ee701a",
   "metadata": {},
   "outputs": [],
   "source": [
    "%timeit get_1(sdf, \"Open\")"
   ]
  },
  {
   "cell_type": "code",
   "execution_count": null,
   "id": "5e801ee1",
   "metadata": {},
   "outputs": [],
   "source": [
    "%timeit get_2(sdf, \"Open\")"
   ]
  },
  {
   "cell_type": "code",
   "execution_count": null,
   "id": "2a48c287",
   "metadata": {},
   "outputs": [],
   "source": [
    "%timeit get_3(sdf, \"Open\")"
   ]
  },
  {
   "cell_type": "code",
   "execution_count": null,
   "id": "28ed04b2",
   "metadata": {},
   "outputs": [],
   "source": [
    "%%cython \n",
    "\n",
    "import numpy as np\n",
    "\n",
    "int[] \n",
    "\n",
    "a = np.array([1, 2, 3]).view()\n",
    "print(a)\n",
    "\n",
    "a[0] = 5\n",
    "\n",
    "print(a)"
   ]
  },
  {
   "cell_type": "code",
   "execution_count": null,
   "id": "fefd9c46",
   "metadata": {},
   "outputs": [],
   "source": [
    "%%cython\n",
    "\n",
    "from libc.stdio cimport printf\n",
    "\n",
    "cdef int b = 5\n",
    "cdef int *c = &b\n",
    "b = 6\n",
    "\n",
    "print(b, <int> c[0])\n"
   ]
  },
  {
   "cell_type": "code",
   "execution_count": null,
   "id": "3889bc70",
   "metadata": {},
   "outputs": [],
   "source": [
    "%%cython\n",
    "import numpy as np\n",
    "cimport numpy as np\n",
    "\n",
    "def modify_array(np.ndarray[np.float64_t, ndim=1] arr):\n",
    "    \"\"\"\n",
    "    Create a new NumPy array with modified elements from the input array.\n",
    "    \"\"\"\n",
    "    cdef int n = arr.shape[0]\n",
    "    cdef np.ndarray[np.float64_t, ndim=1] new_arr = np.empty(n, dtype=np.float64)  # Allocate new array\n",
    "    cdef double* input_ptr = <double*> arr.data  # Pointer to input array data\n",
    "    cdef double* new_ptr = <double*> new_arr.data  # Pointer to new array data\n",
    "    cdef int i\n",
    "    \n",
    "    for i in range(n):\n",
    "        new_ptr[i] = input_ptr[i] * 2  # Example operation: doubling each element\n",
    "    \n",
    "    return new_arr\n"
   ]
  },
  {
   "cell_type": "code",
   "execution_count": null,
   "id": "8339788f",
   "metadata": {},
   "outputs": [],
   "source": [
    "import numpy as np\n",
    "\n",
    "# Create a NumPy array\n",
    "arr = np.array([1.0, 2.0, 3.0, 4.0], dtype=np.float64)\n",
    "\n",
    "print(\"Before modification:\", arr)\n",
    "\n",
    "# Call the Cython function\n",
    "a2 = modify_array(arr)\n",
    "\n",
    "print(\"After modification:\", a2)\n"
   ]
  },
  {
   "cell_type": "code",
   "execution_count": null,
   "id": "74e4a916",
   "metadata": {},
   "outputs": [],
   "source": [
    "arr.data"
   ]
  },
  {
   "cell_type": "code",
   "execution_count": null,
   "id": "58a9de39",
   "metadata": {},
   "outputs": [],
   "source": [
    "%timeit modify_array(arr)\n",
    "%timeit arr * 2"
   ]
  }
 ],
 "metadata": {
  "kernelspec": {
   "display_name": "Python 3 (ipykernel)",
   "language": "python",
   "name": "python3"
  },
  "language_info": {
   "codemirror_mode": {
    "name": "ipython",
    "version": 3
   },
   "file_extension": ".py",
   "mimetype": "text/x-python",
   "name": "python",
   "nbconvert_exporter": "python",
   "pygments_lexer": "ipython3",
   "version": "3.12.3"
  }
 },
 "nbformat": 4,
 "nbformat_minor": 5
}
