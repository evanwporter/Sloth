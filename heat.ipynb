{
 "cells": [
  {
   "cell_type": "code",
   "execution_count": null,
   "id": "8c1f07f9",
   "metadata": {},
   "outputs": [],
   "source": [
    "%load_ext heat"
   ]
  },
  {
   "cell_type": "code",
   "execution_count": 1,
   "id": "dbc7b36b",
   "metadata": {},
   "outputs": [],
   "source": [
    "# %%heat\n",
    "# from frame import DataFrame, Series\n",
    "# from index import RangeIndex, PeriodIndex\n",
    "import pandas as pd\n",
    "import numpy as np\n",
    "# from conversions import Conversions\n",
    "\n",
    "pdf = pd.read_csv(r\"C:\\Users\\evanw\\OneDrive\\Desktop\\AT\\Data\\GOOG.csv\", index_col=0)\n",
    "pdf.index = pd.to_datetime(pdf.index)\n",
    "\n",
    "\n",
    "freq = \"1W\""
   ]
  },
  {
   "cell_type": "code",
   "execution_count": 6,
   "id": "2c3a0ffc",
   "metadata": {},
   "outputs": [],
   "source": [
    "from Sloth import DataFrame, Series, RangeIndex, PeriodIndex"
   ]
  },
  {
   "cell_type": "code",
   "execution_count": 5,
   "id": "1376f369",
   "metadata": {},
   "outputs": [
    {
     "data": {
      "text/plain": [
       "              Open    High     Low   Close      Volume\n",
       "2004-08-19  100.00  104.06   95.96  100.34  22351900.0\n",
       "2004-08-20  101.01  109.08  100.50  108.31  11428600.0\n",
       "2004-08-23  110.75  113.48  109.05  109.40   9137200.0\n",
       "2004-08-24  111.24  111.60  103.57  104.87   7631300.0\n",
       "2004-08-25  104.96  108.00  103.88  106.00   4598900.0\n",
       "...            ...     ...     ...     ...         ...\n",
       "2013-02-25  802.30  808.41  790.49  790.77   2303900.0\n",
       "2013-02-26  795.00  795.95  784.40  790.13   2202500.0\n",
       "2013-02-27  794.80  804.75  791.11  799.78   2026100.0\n",
       "2013-02-28  801.10  806.99  801.03  801.20   2265800.0\n",
       "2013-03-01  797.80  807.14  796.15  806.19   2175400.0\n",
       "\n",
       "[2148 rows x 5 columns]"
      ]
     },
     "execution_count": 5,
     "metadata": {},
     "output_type": "execute_result"
    }
   ],
   "source": [
    "frame = DataFrame.from_pandas(pdf)\n",
    "frame"
   ]
  },
  {
   "cell_type": "code",
   "execution_count": null,
   "id": "50b7c2e7",
   "metadata": {},
   "outputs": [],
   "source": [
    "r = RangeIndex(start=1, stop=3, step=1)\n",
    "r.start"
   ]
  },
  {
   "cell_type": "code",
   "execution_count": null,
   "id": "e9a1a729",
   "metadata": {},
   "outputs": [],
   "source": [
    "x1 = int(np.datetime64('2009-01-01').astype(\"datetime64[ns]\"))"
   ]
  },
  {
   "cell_type": "code",
   "execution_count": null,
   "id": "11c853c7",
   "metadata": {},
   "outputs": [],
   "source": [
    "np.datetime64('2010-01-01').astype(\"datetime64[ns]\")"
   ]
  },
  {
   "cell_type": "code",
   "execution_count": null,
   "id": "9691889d",
   "metadata": {},
   "outputs": [],
   "source": [
    "x3 = np.timedelta64(12, \"h\").astype(\"timedelta64[ns]\").astype(\"int64\")"
   ]
  },
  {
   "cell_type": "code",
   "execution_count": null,
   "id": "382476c2",
   "metadata": {},
   "outputs": [],
   "source": [
    "np.datetime64(np.datetime64('2010-01-01'))"
   ]
  },
  {
   "cell_type": "code",
   "execution_count": null,
   "id": "a83560f4",
   "metadata": {},
   "outputs": [],
   "source": [
    "a = np.array([1, 2, 3, 4, 5, 6])\n",
    "i = np.array([1, 2])\n",
    "b = np.array([[\"a\", \"b\", \"c\", \"d\", \"e\", \"f\"], [\"a\", \"b\", \"c\", \"d\", \"e\", \"f\"]]).T\n",
    "b"
   ]
  },
  {
   "cell_type": "code",
   "execution_count": null,
   "id": "13183522",
   "metadata": {},
   "outputs": [],
   "source": [
    "pd.PeriodIndex([\"2010\", \"2014\"], freq=\"1Y\")"
   ]
  },
  {
   "cell_type": "code",
   "execution_count": null,
   "id": "0efe4905",
   "metadata": {},
   "outputs": [],
   "source": [
    "r.to_pandas()"
   ]
  },
  {
   "cell_type": "code",
   "execution_count": null,
   "id": "2a6d5e5d",
   "metadata": {},
   "outputs": [],
   "source": [
    "DataFrame(b, columns=i).loc[3:]"
   ]
  },
  {
   "cell_type": "code",
   "execution_count": null,
   "id": "007b46a1",
   "metadata": {
    "scrolled": true
   },
   "outputs": [],
   "source": [
    "np.asarray(frame.values_)[0:2148:1].shape"
   ]
  },
  {
   "cell_type": "code",
   "execution_count": null,
   "id": "1044f44f",
   "metadata": {},
   "outputs": [],
   "source": [
    "%timeit frame.iloc[10:].iloc[0:3].iloc[0]"
   ]
  },
  {
   "cell_type": "code",
   "execution_count": null,
   "id": "2ddc950f",
   "metadata": {},
   "outputs": [],
   "source": [
    "%timeit pdf.iloc[10:].iloc[0:3].iloc[0]"
   ]
  },
  {
   "cell_type": "code",
   "execution_count": null,
   "id": "94e82fc9",
   "metadata": {},
   "outputs": [],
   "source": [
    "type(pdf.iloc[10:].iloc[0:3].iloc[0].values)"
   ]
  },
  {
   "cell_type": "code",
   "execution_count": null,
   "id": "66c12e51",
   "metadata": {},
   "outputs": [],
   "source": [
    "(frame.iloc[10:].iloc[0:3].iloc[0].values == pdf.iloc[10:].iloc[0:3].iloc[0].values).all()"
   ]
  },
  {
   "cell_type": "code",
   "execution_count": null,
   "id": "7e621c26",
   "metadata": {},
   "outputs": [],
   "source": [
    "x = pd.DataFrame(\n",
    "    data=frame.values, \n",
    "#     index=frame.index.keys, \n",
    "#     columns=frame.columns.keys\n",
    ")\n",
    "x.index = frame.index.keys"
   ]
  },
  {
   "cell_type": "code",
   "execution_count": null,
   "id": "3594eef0",
   "metadata": {},
   "outputs": [],
   "source": [
    "np.asarray(frame.index.keys_)[frame.index.mask]"
   ]
  },
  {
   "cell_type": "code",
   "execution_count": null,
   "id": "3a096df4",
   "metadata": {},
   "outputs": [],
   "source": []
  },
  {
   "cell_type": "code",
   "execution_count": null,
   "id": "a34ce85b",
   "metadata": {},
   "outputs": [],
   "source": [
    "frame"
   ]
  },
  {
   "cell_type": "code",
   "execution_count": null,
   "id": "f02067e1",
   "metadata": {},
   "outputs": [],
   "source": [
    "len(frame.values[frame.Open.values > 400])"
   ]
  },
  {
   "cell_type": "code",
   "execution_count": null,
   "id": "a6f3cd0c",
   "metadata": {},
   "outputs": [],
   "source": [
    "frame.values[:, frame.columns.get_item(\"Open\")]"
   ]
  },
  {
   "cell_type": "code",
   "execution_count": null,
   "id": "5067febb",
   "metadata": {},
   "outputs": [],
   "source": [
    "frame.columns.get_item(\"Open\")"
   ]
  },
  {
   "cell_type": "code",
   "execution_count": null,
   "id": "81f46d96",
   "metadata": {},
   "outputs": [],
   "source": [
    "frame[frame.High > 800]"
   ]
  },
  {
   "cell_type": "code",
   "execution_count": null,
   "id": "ad8bc446",
   "metadata": {},
   "outputs": [],
   "source": [
    "\"{} is an incorrect type\".format(type(frame))"
   ]
  },
  {
   "cell_type": "code",
   "execution_count": null,
   "id": "96bdf84b",
   "metadata": {},
   "outputs": [],
   "source": [
    "DataFrame(\n",
    "    values = frame.values[(frame.Open > 100).values],\n",
    "    index = frame.index.keys[(frame.Open > 100).values],\n",
    "    columns = frame.columns\n",
    ")"
   ]
  },
  {
   "cell_type": "code",
   "execution_count": null,
   "id": "94bbef55",
   "metadata": {},
   "outputs": [],
   "source": []
  },
  {
   "cell_type": "code",
   "execution_count": null,
   "id": "01467f1d",
   "metadata": {},
   "outputs": [],
   "source": [
    "def boolean_array_from_slice(length, slc):\n",
    "    \"\"\"\n",
    "    Create a boolean array corresponding to a slice.\n",
    "    \n",
    "    Parameters:\n",
    "    length (int): Length of the array to be sliced.\n",
    "    slc (slice): Slice object indicating the range.\n",
    "    \n",
    "    Returns:\n",
    "    np.ndarray: Boolean array with True for elements in the slice range, False otherwise.\n",
    "    \"\"\"\n",
    "    # Initialize the boolean array with all False\n",
    "    bool_arr = np.zeros(length, dtype=bool)\n",
    "    \n",
    "    # Handle None values for slice start, stop, and step\n",
    "    start = slc.start if slc.start is not None else 0\n",
    "    stop = slc.stop if slc.stop is not None else length\n",
    "    step = slc.step if slc.step is not None else 1\n",
    "    \n",
    "    # Create an array of indices that correspond to the slice\n",
    "    indices = np.arange(start, stop, step)\n",
    "    \n",
    "    # Set the positions in the boolean array to True\n",
    "    bool_arr[indices] = True\n",
    "    \n",
    "    return bool_arr\n",
    "\n",
    "# Example usage:\n",
    "length = 10\n",
    "slc = slice(2, 8, 2)\n",
    "bool_arr = boolean_array_from_slice(length, slc)\n",
    "bool_arr"
   ]
  },
  {
   "cell_type": "code",
   "execution_count": null,
   "id": "e7025f1f",
   "metadata": {},
   "outputs": [],
   "source": [
    "class DataFrame_:\n",
    "    def __init__(self, values, index, columns):\n",
    "        self.values_ = values\n",
    "        self.index = Index(index)\n",
    "        self.columns = Index(columns)\n",
    "        \n",
    "        self.mask = slice(None, None, 4)\n",
    "        \n",
    "        self.iloc = IntegerLocation(self)\n",
    "#         self.loc = Location(self)\n",
    "\n",
    "    def fast_init(self, mask):\n",
    "        \"\"\"\n",
    "        Backdoor of sorts. Allows for a quicker initialization after slicing.\n",
    "\n",
    "        Parameters\n",
    "        ----------\n",
    "        mask : slice\n",
    "            slice to be used\n",
    "        \"\"\"\n",
    "        frame = self.__new__(self.__class__)\n",
    "        \n",
    "        frame.mask = mask\n",
    "        frame.values_ = self.values_\n",
    "\n",
    "        frame.index = self.index.fast_init(mask)\n",
    "        frame.columns = self.columns\n",
    "\n",
    "        return frame\n",
    "    \n",
    "    def to_pandas(self):\n",
    "        return pd.DataFrame(\n",
    "            self.values, \n",
    "            index=self.index.to_pandas(), \n",
    "            columns=self.columns.to_pandas()\n",
    "        )\n",
    "    \n",
    "    def __repr__(self):\n",
    "        return str(self.to_pandas())\n",
    "    \n",
    "    @property\n",
    "    def values(self):\n",
    "        return self.values_[self.mask]"
   ]
  },
  {
   "cell_type": "code",
   "execution_count": null,
   "id": "c448d1a9",
   "metadata": {},
   "outputs": [],
   "source": [
    "class Index:\n",
    "    def __init__(self, index):\n",
    "        # Makes the index a numpy array\n",
    "        self.keys_ = np.asarray(index)\n",
    "        self._initialize()\n",
    "        self.reference = \"object\"\n",
    "        \n",
    "        self.mask = slice(None, None, None)\n",
    "        \n",
    "    def _initialize(self):\n",
    "        \n",
    "        length = len(self.keys_)\n",
    "\n",
    "        # Because the index is a bunch of python objects\n",
    "        # it will be stored in a python dictionary\n",
    "        self.index = {}\n",
    "        for i in range(length):\n",
    "            self.index[self.keys_[i]] = i\n",
    "    \n",
    "    @property\n",
    "    def keys(self):\n",
    "        return np.asarray(self.keys_)[self.mask]\n",
    "    \n",
    "    def fast_init(self, mask: slice):\n",
    "        index = self.__new__(self.__class__)\n",
    "\n",
    "        index.index = self.index\n",
    "        index.keys_ = self.keys_\n",
    "\n",
    "        index.mask = mask\n",
    "\n",
    "        return index\n",
    "    \n",
    "    def to_pandas(self):\n",
    "        return pd.Index(data=self.keys)"
   ]
  },
  {
   "cell_type": "code",
   "execution_count": null,
   "id": "f1aa5999",
   "metadata": {},
   "outputs": [],
   "source": [
    "class IntegerLocation:\n",
    "    def __init__(self, frame):\n",
    "        self.frame = frame\n",
    "        self.index = frame.index\n",
    "        self.values = frame.values\n",
    "    \n",
    "    def __getitem__(self, arg):\n",
    "        if isinstance(arg, int):\n",
    "            arg = calculate_index(self.frame.mask, arg)\n",
    "            return Series(self.values[arg], index=self.frame.columns.keys_, name=self.index.keys_[arg])    \n",
    "        if isinstance(arg, slice):\n",
    "            arg = combine_slices(self.frame.mask, arg, len(self.index.keys_))\n",
    "            return self.frame.fast_init(mask=arg)"
   ]
  },
  {
   "cell_type": "code",
   "execution_count": null,
   "id": "6f6d2b05",
   "metadata": {},
   "outputs": [],
   "source": [
    "DataFrame_(frame.values, frame.index.keys, frame.columns.keys).iloc[1::4]"
   ]
  },
  {
   "cell_type": "code",
   "execution_count": null,
   "id": "fc486a95",
   "metadata": {},
   "outputs": [],
   "source": [
    "import numpy as np\n",
    "\n",
    "def normalize_slice(s, length):\n",
    "    # Handle None for start, stop, and step\n",
    "    start = s.start if s.start is not None else (0 if s.step is None or s.step > 0 else length - 1)\n",
    "    stop = s.stop if s.stop is not None else (length if s.step is None or s.step > 0 else -1)\n",
    "    step = s.step if s.step is not None else 1\n",
    "    \n",
    "    # Handle negative indices\n",
    "    if start < 0:\n",
    "        start += length\n",
    "    if stop < 0:\n",
    "        stop += length\n",
    "    \n",
    "    return slice(start, stop, step)\n",
    "\n",
    "def combine_slices(slice_a, slice_b, length_a):\n",
    "    # Normalize slice_a and slice_b\n",
    "    slice_a = normalize_slice(slice_a, length_a)\n",
    "    length_b = (slice_a.stop - slice_a.start + (slice_a.step - 1)) // slice_a.step\n",
    "    slice_b = normalize_slice(slice_b, length_b)\n",
    "    \n",
    "    # Calculate the start, stop, and step for the final slice\n",
    "    start = slice_a.start + (slice_b.start * slice_a.step)\n",
    "    stop = slice_a.start + (slice_b.stop * slice_a.step)\n",
    "    step = slice_a.step * slice_b.step\n",
    "    \n",
    "    return slice(start, stop, step)\n",
    "\n",
    "# Example usage\n",
    "A = np.array([0, 1, 2, 3, 4, 5, 6, 7, 8, 9])\n",
    "slice_a = slice(None, None, None)  # Slice A\n",
    "slice_b = slice(1, -1, 1)          # Slice B\n",
    "\n",
    "# First slice A to get B\n",
    "B = A[slice_a]\n",
    "print(\"B:\", B)\n",
    "\n",
    "# Then slice B to get C\n",
    "C = B[slice_b]\n",
    "print(\"C:\", C)\n",
    "\n",
    "# Now combine slices to get the final slice that directly slices A to get C\n",
    "slice_combined = combine_slices(slice_a, slice_b, len(A))\n",
    "C_from_A = A[slice_combined]\n",
    "print(\"C from A:\", C_from_A)\n"
   ]
  },
  {
   "cell_type": "code",
   "execution_count": null,
   "id": "edfd83f8",
   "metadata": {},
   "outputs": [],
   "source": [
    "class Slice:\n",
    "#     cdef int start, stop, step\n",
    "    \n",
    "    def __init__(self, start, stop, step):\n",
    "        self.start = start\n",
    "        self.stop = stop\n",
    "        self.step = step"
   ]
  },
  {
   "cell_type": "code",
   "execution_count": null,
   "id": "64f4390e",
   "metadata": {},
   "outputs": [],
   "source": [
    "a[Slice(0, 4, 5)]"
   ]
  },
  {
   "cell_type": "code",
   "execution_count": null,
   "id": "82cc5d2b",
   "metadata": {},
   "outputs": [],
   "source": [
    "import numpy as np\n",
    "\n",
    "def calculate_index(slice_a, integer_b):\n",
    "    # Normalize the slice to ensure it has start, stop, and step\n",
    "    start = slice_a.start if slice_a.start is not None else 0\n",
    "    step = slice_a.step if slice_a.step is not None else 1\n",
    "\n",
    "    # Calculate the final index\n",
    "    index = start + (integer_b * step)\n",
    "    \n",
    "    return index\n",
    "\n",
    "# Example usage\n",
    "A = np.array([0, 1, 2, 3, 4, 5, 6, 7, 8, 9])\n",
    "slice_a = slice(2, 8, 2)  # Slice A\n",
    "integer_b = 1             # Integer B\n",
    "\n",
    "# First slice A to get B\n",
    "B = A[slice_a]\n",
    "print(\"B:\", B)\n",
    "\n",
    "# Then index B to get C\n",
    "C = B[integer_b]\n",
    "print(\"C:\", C)\n",
    "\n",
    "# Now calculate the index that directly indexes A to get C\n",
    "index = calculate_index(slice_a, integer_b)\n",
    "C_from_A = A[index]\n",
    "print(\"C from A:\", C_from_A)"
   ]
  },
  {
   "cell_type": "code",
   "execution_count": null,
   "id": "4536f4e2",
   "metadata": {},
   "outputs": [],
   "source": [
    "a[1:2]"
   ]
  },
  {
   "cell_type": "code",
   "execution_count": null,
   "id": "a2eb9527",
   "metadata": {},
   "outputs": [],
   "source": [
    "new_mask = np.zeros_like(a, dtype=bool)\n",
    "masked_indices = np.where(mask)[0]  # Get the indices of the original array that are True in the mask\n",
    "new_mask[masked_indices[slice_indices]] = True"
   ]
  },
  {
   "cell_type": "code",
   "execution_count": null,
   "id": "e3e8e37c",
   "metadata": {},
   "outputs": [],
   "source": [
    "new_mask"
   ]
  },
  {
   "cell_type": "code",
   "execution_count": null,
   "id": "0604cf11",
   "metadata": {},
   "outputs": [],
   "source": [
    "np.arange(len(a[mask]))[0:2]"
   ]
  },
  {
   "cell_type": "code",
   "execution_count": null,
   "id": "8a04aaca",
   "metadata": {},
   "outputs": [],
   "source": [
    "np.zeros_like(mask, dtype=bool)[0:2]"
   ]
  },
  {
   "cell_type": "code",
   "execution_count": null,
   "id": "79af271e",
   "metadata": {},
   "outputs": [],
   "source": [
    "frame.columns.keys"
   ]
  },
  {
   "cell_type": "code",
   "execution_count": null,
   "id": "e70ef085",
   "metadata": {},
   "outputs": [],
   "source": [
    "a = np.arange(10)\n",
    "a[(1, 2, 3)]"
   ]
  },
  {
   "cell_type": "code",
   "execution_count": null,
   "id": "00311634",
   "metadata": {},
   "outputs": [],
   "source": [
    "%timeit pdf.iloc[:300]"
   ]
  },
  {
   "cell_type": "code",
   "execution_count": null,
   "id": "45043509",
   "metadata": {},
   "outputs": [],
   "source": [
    "def floor_(dt, timeframe):\n",
    "    c = Conversions()\n",
    "    if timeframe == \"W\":\n",
    "        i = (dt // c.D) * c.D\n",
    "        d = i - ( ( (i - 259200000000000) % 7 ) * c.D)\n",
    "    else:\n",
    "        d = (dt // getattr(c, timeframe)) * getattr(c, timeframe)\n",
    "    return d"
   ]
  },
  {
   "cell_type": "code",
   "execution_count": null,
   "id": "59839d0e",
   "metadata": {},
   "outputs": [],
   "source": [
    "def ceil_(dt, timeframe):\n",
    "    c = Conversions()\n",
    "\n",
    "    if timeframe == \"W\":\n",
    "        i = np.ceil(dt / c.D) * c.D\n",
    "        d = i + ((7 - ( (i - 259200000000000) % 7 )) * c.D)\n",
    "    else:\n",
    "        d = np.ceil(dt / getattr(c, timeframe)) * getattr(c, timeframe)\n",
    "    return (d)"
   ]
  },
  {
   "cell_type": "code",
   "execution_count": null,
   "id": "683c6e8e",
   "metadata": {},
   "outputs": [],
   "source": [
    "index = frame.index.keys_\n",
    "\n",
    "interval = int(freq[:-1])\n",
    "timeframe = freq[-1]\n",
    "\n",
    "bins = np.arange(\n",
    "    start = floor_(index[0], timeframe), \n",
    "    stop = ceil_(index[-1], timeframe), \n",
    "    step = np.timedelta64(interval, timeframe).astype(\"timedelta64[ns]\").astype(\"int64\")\n",
    ")\n",
    "\n",
    "split_data = np.split(frame.values, np.cumsum(\n",
    "    np.bincount(np.digitize(index, bins, right=False))[1:]\n",
    "))[:-1]"
   ]
  },
  {
   "cell_type": "code",
   "execution_count": null,
   "id": "0115a66b",
   "metadata": {},
   "outputs": [],
   "source": [
    "pdf.resample(freq).mean()"
   ]
  },
  {
   "cell_type": "code",
   "execution_count": null,
   "id": "9b544b87",
   "metadata": {},
   "outputs": [],
   "source": [
    "a = np.array([\n",
    "    [1.00000e+02, 1.04060e+02, 9.59600e+01, 1.00340e+02, 2.23519e+07],\n",
    "    [1.01010e+02, 1.09080e+02, 1.00500e+02, 1.08310e+02, 1.14286e+07]\n",
    "])\n",
    "b = np.array([\"a\", \"2\", 3, \"4\", 7])\n",
    "b.size"
   ]
  },
  {
   "cell_type": "code",
   "execution_count": null,
   "id": "9cd1b990",
   "metadata": {},
   "outputs": [],
   "source": [
    "data = np.zeros((446, 5))"
   ]
  },
  {
   "cell_type": "code",
   "execution_count": null,
   "id": "c5969493",
   "metadata": {},
   "outputs": [],
   "source": [
    "np.mean(np.array([frame.resample(freq).split_data[0][0]]), axis=0)"
   ]
  },
  {
   "cell_type": "code",
   "execution_count": null,
   "id": "4708dd4b",
   "metadata": {},
   "outputs": [],
   "source": [
    "np.array([frame.resample(freq).split_data[0][0]])"
   ]
  },
  {
   "cell_type": "code",
   "execution_count": null,
   "id": "398a25d3",
   "metadata": {},
   "outputs": [],
   "source": [
    "np.mean(frame.resample(freq).split_data[0][0].reshape(1, -1))"
   ]
  },
  {
   "cell_type": "code",
   "execution_count": null,
   "id": "86d352c6",
   "metadata": {},
   "outputs": [],
   "source": [
    "pdf.values.shape"
   ]
  },
  {
   "cell_type": "code",
   "execution_count": null,
   "id": "7e7bcc07",
   "metadata": {},
   "outputs": [],
   "source": [
    "l = len(split_data)\n",
    "o = np.zeros((l, 5))\n",
    "#cdef sub_array\n",
    "for sub_array in range(l):\n",
    "    o[sub_array] = np.mean(split_data[sub_array], axis=0)\n",
    "p = [np.mean(sub_array, axis=0) for sub_array in split_data]"
   ]
  },
  {
   "cell_type": "code",
   "execution_count": null,
   "id": "7de2f4f3",
   "metadata": {},
   "outputs": [],
   "source": [
    "o == frame.resample(freq).mean.values"
   ]
  },
  {
   "cell_type": "code",
   "execution_count": null,
   "id": "88d50e1b",
   "metadata": {},
   "outputs": [],
   "source": [
    "import numpy as np\n",
    "\n",
    "def normalize_slice_py(s, length):\n",
    "    start = s.start if s.start is not None else (0 if s.step is None or s.step > 0 else length - 1)\n",
    "    stop = s.stop if s.stop is not None else (length if s.step is None or s.step > 0 else -1)\n",
    "    step = s.step if s.step is not None else 1\n",
    "    \n",
    "    if start < 0:\n",
    "        start += length\n",
    "    if stop < 0:\n",
    "        stop += length\n",
    "    \n",
    "    return slice(start, stop, step)\n",
    "\n",
    "def combine_slices_py(slice_a, slice_b, length_a):\n",
    "    slice_a = normalize_slice_py(slice_a, length_a)\n",
    "    length_b = (slice_a.stop - slice_a.start + (slice_a.step - 1)) // slice_a.step\n",
    "    slice_b = normalize_slice_py(slice_b, length_b)\n",
    "    \n",
    "    start = slice_a.start + (slice_b.start * slice_a.step)\n",
    "    stop = slice_a.start + (slice_b.stop * slice_a.step)\n",
    "    step = slice_a.step * slice_b.step\n",
    "    \n",
    "    return slice(start, stop, step)"
   ]
  },
  {
   "cell_type": "code",
   "execution_count": null,
   "id": "5175b53b",
   "metadata": {},
   "outputs": [],
   "source": [
    "%load_ext cython"
   ]
  },
  {
   "cell_type": "code",
   "execution_count": null,
   "id": "d43ccb17",
   "metadata": {},
   "outputs": [],
   "source": [
    "%%cython\n",
    "cdef class Slice:\n",
    "    cdef int start, stop, step\n",
    "    \n",
    "    def __init__(self, int start, int stop, int step):\n",
    "        self.start = start\n",
    "        self.stop = stop\n",
    "        self.step = step\n",
    "\n",
    "cdef Slice normalize_slice(Slice s, int length):\n",
    "    cdef int start, stop, step\n",
    "    \n",
    "    if s.start is None:\n",
    "        start = 0 if s.step is None or s.step > 0 else length - 1\n",
    "    else:\n",
    "        start = s.start\n",
    "    \n",
    "    if s.stop is None:\n",
    "        stop = length if s.step is None or s.step > 0 else -1\n",
    "    else:\n",
    "        stop = s.stop\n",
    "    \n",
    "    step = s.step if s.step is not None else 1\n",
    "    \n",
    "    if start < 0:\n",
    "        start += length\n",
    "    if stop < 0:\n",
    "        stop += length\n",
    "    \n",
    "    return Slice(start, stop, step)\n",
    "\n",
    "def combine_slices(Slice slice_a, Slice slice_b, int length_a):\n",
    "    slice_a = normalize_slice(slice_a, length_a)\n",
    "    length_b = (slice_a.stop - slice_a.start + (slice_a.step - 1)) // slice_a.step\n",
    "    slice_b = normalize_slice(slice_b, length_b)\n",
    "    \n",
    "    cdef int start = slice_a.start + (slice_b.start * slice_a.step)\n",
    "    cdef int stop = slice_a.start + (slice_b.stop * slice_a.step)\n",
    "    cdef int step = slice_a.step * slice_b.step\n",
    "    \n",
    "    return slice(start, stop, step)\n"
   ]
  },
  {
   "cell_type": "code",
   "execution_count": null,
   "id": "107acade",
   "metadata": {},
   "outputs": [],
   "source": [
    "# Setting up the data\n",
    "A = np.array([0, 1, 2, 3, 4, 5, 6, 7, 8, 9])\n",
    "slice_a = slice(2, 8, 2)\n",
    "slice_b = slice(1, 3, 1)\n",
    "\n",
    "# Function to use Cython combine_slices and convert to Python slice\n",
    "def cython_slice():\n",
    "    s = combine_slices(\n",
    "        Slice(slice_a.start, slice_a.stop, slice_a.step),\n",
    "        Slice(slice_b.start, slice_b.stop, slice_b.step),\n",
    "        len(A)\n",
    "    )\n",
    "    C_from_A = A[s]\n",
    "    return C_from_A\n",
    "\n",
    "# Function to use Python combine_slices\n",
    "def python_slice():\n",
    "    combined_slice = combine_slices_py(slice_a, slice_b, len(A))\n",
    "    C_from_A = A[combined_slice]\n",
    "    return C_from_A\n",
    "\n",
    "# Ensuring the functions return the same result\n",
    "assert np.array_equal((cython_slice()), python_slice())\n",
    "\n",
    "# Benchmarking using %timeit\n",
    "%timeit cython_slice()\n",
    "%timeit python_slice()\n"
   ]
  },
  {
   "cell_type": "code",
   "execution_count": null,
   "id": "1f3d5356",
   "metadata": {},
   "outputs": [],
   "source": [
    "def reindex_array(original, index_array):\n",
    "    # Create a new array of the same size as the original, initialized with None\n",
    "    new_array = [None] * len(original)\n",
    "    \n",
    "    # Place each element at its new index\n",
    "    for original_index, new_index in enumerate(index_array):\n",
    "        new_array[new_index] = original[original_index]\n",
    "    \n",
    "    return new_array\n",
    "\n",
    "# Example usage\n",
    "original = ['a', 'b', 'c', 'd']\n",
    "index_array = [2, 0, 3, 1]\n",
    "new_array = reindex_array(original, index_array)\n",
    "print(new_array)\n"
   ]
  },
  {
   "cell_type": "code",
   "execution_count": null,
   "id": "ab5f6239",
   "metadata": {},
   "outputs": [],
   "source": [
    "column=['a','b','c','d','e']\n",
    "index=['A','B','C','D','E']\n",
    "\n",
    "x = np.random.rand(5,5)\n",
    " \n",
    "# create a dataframe of random values of array\n",
    "df1 = pd.DataFrame(x, columns=column, index=index)\n",
    " \n",
    "print(df1)\n",
    " \n",
    "print('\\n\\nDataframe after reindexing rows: \\n', \n",
    "    df1.reindex(['B', 'D', 'A', 'C', 'E']))"
   ]
  },
  {
   "cell_type": "code",
   "execution_count": null,
   "id": "6ac16e59",
   "metadata": {},
   "outputs": [],
   "source": [
    "df2 = DataFrame(x, columns=column, index=index)\n",
    "\n",
    "print(df2)"
   ]
  },
  {
   "cell_type": "code",
   "execution_count": null,
   "id": "247c86b0",
   "metadata": {},
   "outputs": [],
   "source": [
    "df2.index.keys"
   ]
  },
  {
   "cell_type": "code",
   "execution_count": null,
   "id": "b093ef1b",
   "metadata": {},
   "outputs": [],
   "source": [
    "new_idx = ['B', 'D', 'A', 'C', 'E']\n",
    "new_idx_idx = [df2.index.index[i] for i in new_idx]\n",
    "new_idx_idx"
   ]
  },
  {
   "cell_type": "code",
   "execution_count": null,
   "id": "c28885b3",
   "metadata": {},
   "outputs": [],
   "source": [
    "p = np.arange(4)\n",
    "\n",
    "new_array = [None] * len(new_idx_idx)\n",
    "\n",
    "\n",
    "# Place each element at its new index\n",
    "for original_index, new_index in enumerate(new_idx_idx):\n",
    "    print(original_index, new_index)\n",
    "    new_array[new_index] = df2.index.keys[original_index]"
   ]
  },
  {
   "cell_type": "code",
   "execution_count": null,
   "id": "5b6c3118",
   "metadata": {},
   "outputs": [],
   "source": [
    "new_array"
   ]
  },
  {
   "cell_type": "code",
   "execution_count": null,
   "id": "23a85bad",
   "metadata": {},
   "outputs": [],
   "source": [
    "help(pd)"
   ]
  }
 ],
 "metadata": {
  "kernelspec": {
   "display_name": "Python 3 (ipykernel)",
   "language": "python",
   "name": "python3"
  },
  "language_info": {
   "codemirror_mode": {
    "name": "ipython",
    "version": 3
   },
   "file_extension": ".py",
   "mimetype": "text/x-python",
   "name": "python",
   "nbconvert_exporter": "python",
   "pygments_lexer": "ipython3",
   "version": "3.9.5"
  }
 },
 "nbformat": 4,
 "nbformat_minor": 5
}
