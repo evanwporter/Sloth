{
 "cells": [
  {
   "cell_type": "code",
   "execution_count": 1,
   "id": "e2d6a40e",
   "metadata": {},
   "outputs": [],
   "source": [
    "%load_ext cython\n",
    "%load_ext heat"
   ]
  },
  {
   "cell_type": "code",
   "execution_count": 2,
   "id": "eb0c592f",
   "metadata": {},
   "outputs": [],
   "source": [
    "from frame import DataFrame"
   ]
  },
  {
   "cell_type": "code",
   "execution_count": 3,
   "id": "68c4b0d3",
   "metadata": {},
   "outputs": [
    {
     "data": {
      "text/html": [
       "<div>\n",
       "<style scoped>\n",
       "    .dataframe tbody tr th:only-of-type {\n",
       "        vertical-align: middle;\n",
       "    }\n",
       "\n",
       "    .dataframe tbody tr th {\n",
       "        vertical-align: top;\n",
       "    }\n",
       "\n",
       "    .dataframe thead th {\n",
       "        text-align: right;\n",
       "    }\n",
       "</style>\n",
       "<table border=\"1\" class=\"dataframe\">\n",
       "  <thead>\n",
       "    <tr style=\"text-align: right;\">\n",
       "      <th></th>\n",
       "      <th>Open</th>\n",
       "      <th>High</th>\n",
       "      <th>Low</th>\n",
       "      <th>Close</th>\n",
       "      <th>Volume</th>\n",
       "    </tr>\n",
       "  </thead>\n",
       "  <tbody>\n",
       "    <tr>\n",
       "      <th>2004-08-19</th>\n",
       "      <td>100.00</td>\n",
       "      <td>104.06</td>\n",
       "      <td>95.96</td>\n",
       "      <td>100.34</td>\n",
       "      <td>22351900</td>\n",
       "    </tr>\n",
       "    <tr>\n",
       "      <th>2004-08-20</th>\n",
       "      <td>101.01</td>\n",
       "      <td>109.08</td>\n",
       "      <td>100.50</td>\n",
       "      <td>108.31</td>\n",
       "      <td>11428600</td>\n",
       "    </tr>\n",
       "    <tr>\n",
       "      <th>2004-08-23</th>\n",
       "      <td>110.75</td>\n",
       "      <td>113.48</td>\n",
       "      <td>109.05</td>\n",
       "      <td>109.40</td>\n",
       "      <td>9137200</td>\n",
       "    </tr>\n",
       "    <tr>\n",
       "      <th>2004-08-24</th>\n",
       "      <td>111.24</td>\n",
       "      <td>111.60</td>\n",
       "      <td>103.57</td>\n",
       "      <td>104.87</td>\n",
       "      <td>7631300</td>\n",
       "    </tr>\n",
       "    <tr>\n",
       "      <th>2004-08-25</th>\n",
       "      <td>104.96</td>\n",
       "      <td>108.00</td>\n",
       "      <td>103.88</td>\n",
       "      <td>106.00</td>\n",
       "      <td>4598900</td>\n",
       "    </tr>\n",
       "    <tr>\n",
       "      <th>...</th>\n",
       "      <td>...</td>\n",
       "      <td>...</td>\n",
       "      <td>...</td>\n",
       "      <td>...</td>\n",
       "      <td>...</td>\n",
       "    </tr>\n",
       "    <tr>\n",
       "      <th>2013-02-25</th>\n",
       "      <td>802.30</td>\n",
       "      <td>808.41</td>\n",
       "      <td>790.49</td>\n",
       "      <td>790.77</td>\n",
       "      <td>2303900</td>\n",
       "    </tr>\n",
       "    <tr>\n",
       "      <th>2013-02-26</th>\n",
       "      <td>795.00</td>\n",
       "      <td>795.95</td>\n",
       "      <td>784.40</td>\n",
       "      <td>790.13</td>\n",
       "      <td>2202500</td>\n",
       "    </tr>\n",
       "    <tr>\n",
       "      <th>2013-02-27</th>\n",
       "      <td>794.80</td>\n",
       "      <td>804.75</td>\n",
       "      <td>791.11</td>\n",
       "      <td>799.78</td>\n",
       "      <td>2026100</td>\n",
       "    </tr>\n",
       "    <tr>\n",
       "      <th>2013-02-28</th>\n",
       "      <td>801.10</td>\n",
       "      <td>806.99</td>\n",
       "      <td>801.03</td>\n",
       "      <td>801.20</td>\n",
       "      <td>2265800</td>\n",
       "    </tr>\n",
       "    <tr>\n",
       "      <th>2013-03-01</th>\n",
       "      <td>797.80</td>\n",
       "      <td>807.14</td>\n",
       "      <td>796.15</td>\n",
       "      <td>806.19</td>\n",
       "      <td>2175400</td>\n",
       "    </tr>\n",
       "  </tbody>\n",
       "</table>\n",
       "<p>2148 rows × 5 columns</p>\n",
       "</div>"
      ],
      "text/plain": [
       "              Open    High     Low   Close    Volume\n",
       "2004-08-19  100.00  104.06   95.96  100.34  22351900\n",
       "2004-08-20  101.01  109.08  100.50  108.31  11428600\n",
       "2004-08-23  110.75  113.48  109.05  109.40   9137200\n",
       "2004-08-24  111.24  111.60  103.57  104.87   7631300\n",
       "2004-08-25  104.96  108.00  103.88  106.00   4598900\n",
       "...            ...     ...     ...     ...       ...\n",
       "2013-02-25  802.30  808.41  790.49  790.77   2303900\n",
       "2013-02-26  795.00  795.95  784.40  790.13   2202500\n",
       "2013-02-27  794.80  804.75  791.11  799.78   2026100\n",
       "2013-02-28  801.10  806.99  801.03  801.20   2265800\n",
       "2013-03-01  797.80  807.14  796.15  806.19   2175400\n",
       "\n",
       "[2148 rows x 5 columns]"
      ]
     },
     "execution_count": 3,
     "metadata": {},
     "output_type": "execute_result"
    }
   ],
   "source": [
    "import pandas as pd\n",
    "import numpy as np\n",
    "\n",
    "pdf = pd.read_csv(r\"C:\\Users\\evanw\\OneDrive\\Desktop\\AT\\Data\\GOOG.csv\", index_col=0)\n",
    "pdf.index = pd.to_datetime(pdf.index)\n",
    "pdf"
   ]
  },
  {
   "cell_type": "code",
   "execution_count": 4,
   "id": "ee450577",
   "metadata": {},
   "outputs": [
    {
     "data": {
      "text/plain": [
       "<index.DateTimeIndex at 0x21547fdfb80>"
      ]
     },
     "execution_count": 4,
     "metadata": {},
     "output_type": "execute_result"
    }
   ],
   "source": [
    "df = DataFrame.from_pandas(pdf)\n",
    "df.index"
   ]
  },
  {
   "cell_type": "code",
   "execution_count": null,
   "id": "5be2eca1",
   "metadata": {},
   "outputs": [],
   "source": [
    "%timeit pdf.resample(\"1W\").mean()"
   ]
  },
  {
   "cell_type": "code",
   "execution_count": null,
   "id": "63467fb4",
   "metadata": {},
   "outputs": [],
   "source": [
    "import pandas as pd\n",
    "import numpy as np\n",
    "\n",
    "from frame import DataFrame\n",
    "\n",
    "pdf = pd.read_csv(r\"C:\\Users\\evanw\\OneDrive\\Desktop\\AT\\Data\\GOOG.csv\", index_col=0)\n",
    "\n",
    "df = DataFrame.from_pandas(pdf)\n",
    "\n",
    "def weekday(dt):\n",
    "    return (dt.astype('datetime64[D]').view('int64') - 3) % 7\n",
    "\n",
    "def resample(frame):\n",
    "    x = np.asarray(frame.index.keys_)\n",
    "    r = x[0]\n",
    "    start = (r.astype('datetime64[D]').view('int64') - weekday(r)).astype(\"datetime64[D]\")\n",
    "    \n",
    "    td = np.timedelta64(1, \"W\").astype(\"timedelta64[ns]\").astype(\"int64\")\n",
    "    \n",
    "    bins = np.arange(start=start, stop=x[-1], step=td)\n",
    "    d = np.digitize(x.astype(np.int64), bins.astype(np.int64), right=True)\n",
    "    count = np.bincount(d)[1:]\n",
    "    s = np.cumsum(count)\n",
    "    splitted = np.split(frame.Open.values, s)[:-1]\n",
    "    return [np.mean(l) for l in splitted]\n",
    "\n",
    "df\n",
    "# resample(df)"
   ]
  },
  {
   "cell_type": "code",
   "execution_count": null,
   "id": "77df467d",
   "metadata": {},
   "outputs": [],
   "source": [
    "epoch = np.datetime64('1970-01-01T00:00:00')"
   ]
  },
  {
   "cell_type": "code",
   "execution_count": null,
   "id": "4c4e719a",
   "metadata": {},
   "outputs": [],
   "source": [
    "td = np.timedelta64(1, \"W\")"
   ]
  },
  {
   "cell_type": "code",
   "execution_count": null,
   "id": "6f24fb67",
   "metadata": {},
   "outputs": [],
   "source": [
    "for i in xrange(1,abs10):\n",
    "    mylist[np.digitize(mylist,bins)==i]"
   ]
  },
  {
   "cell_type": "code",
   "execution_count": null,
   "id": "e9fdf62a",
   "metadata": {},
   "outputs": [],
   "source": [
    "np.digitize()"
   ]
  },
  {
   "cell_type": "code",
   "execution_count": null,
   "id": "4ffafb49",
   "metadata": {},
   "outputs": [],
   "source": [
    "A = np.array([\n",
    "        [0,  1,  2,  3,  4,  5],\n",
    "        [ 6,  7,  8,  9, 10, 11],\n",
    "        [12, 13, 14, 15, 16, 17],\n",
    "        [18, 19, 20, 21, 22, 23],\n",
    "        [24, 25, 26, 27, 28, 29],\n",
    "        [30, 31, 32, 33, 34, 35],\n",
    "        [36, 37, 38, 39, 40, 41],\n",
    "        [42, 43, 44, 45, 46, 47],\n",
    "        [48, 49, 50, 51, 52, 53],\n",
    "        [54, 55, 56, 57, 58, 59],\n",
    "        [60, 61, 62, 63, 64, 65],\n",
    "        [66, 67, 68, 69, 70, 71],\n",
    "        [72, 73, 74, 75, 76, 77],\n",
    "        [78, 79, 80, 81, 82, 83],\n",
    "        [84, 85, 86, 87, 88, 89],\n",
    "        [90, 91, 92, 93, 94, 95]\n",
    "])"
   ]
  },
  {
   "cell_type": "code",
   "execution_count": null,
   "id": "beb37d43",
   "metadata": {},
   "outputs": [],
   "source": [
    "B = view_as_blocks(A, block_shape=(1, 6))"
   ]
  },
  {
   "cell_type": "code",
   "execution_count": null,
   "id": "cd8bf291",
   "metadata": {},
   "outputs": [],
   "source": [
    "A = np.arange(20).reshape(5,4)\n",
    "B = view_as_blocks(A, block_shape=())\n",
    "B"
   ]
  },
  {
   "cell_type": "code",
   "execution_count": null,
   "id": "8751d49a",
   "metadata": {},
   "outputs": [],
   "source": [
    "from numpy.lib.stride_tricks import as_strided\n",
    "\n",
    "def view_as_blocks(arr_in, block_shape):\n",
    "    if not isinstance(block_shape, tuple):\n",
    "        raise TypeError('block needs to be a tuple')\n",
    "\n",
    "    block_shape = np.array(block_shape)\n",
    "    if (block_shape <= 0).any():\n",
    "        raise ValueError(\"'block_shape' elements must be strictly positive\")\n",
    "\n",
    "    if block_shape.size != arr_in.ndim:\n",
    "        raise ValueError(\"'block_shape' must have the same length \"\n",
    "                         \"as 'arr_in.shape'\")\n",
    "\n",
    "    arr_shape = np.array(arr_in.shape)\n",
    "    if (arr_shape % block_shape).sum() != 0:\n",
    "        raise ValueError(\"'block_shape' is not compatible with 'arr_in'\")\n",
    "\n",
    "    # -- restride the array to build the block view\n",
    "    new_shape = tuple(arr_shape // block_shape) + tuple(block_shape)\n",
    "    new_strides = tuple(arr_in.strides * block_shape) + arr_in.strides\n",
    "\n",
    "    arr_out = as_strided(arr_in, shape=new_shape, strides=new_strides)\n",
    "\n",
    "    return arr_out"
   ]
  }
 ],
 "metadata": {
  "kernelspec": {
   "display_name": "Python 3 (ipykernel)",
   "language": "python",
   "name": "python3"
  },
  "language_info": {
   "codemirror_mode": {
    "name": "ipython",
    "version": 3
   },
   "file_extension": ".py",
   "mimetype": "text/x-python",
   "name": "python",
   "nbconvert_exporter": "python",
   "pygments_lexer": "ipython3",
   "version": "3.9.5"
  }
 },
 "nbformat": 4,
 "nbformat_minor": 5
}
