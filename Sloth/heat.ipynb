{
 "cells": [
  {
   "cell_type": "code",
   "execution_count": 1,
   "id": "8c1f07f9",
   "metadata": {},
   "outputs": [],
   "source": [
    "%load_ext heat"
   ]
  },
  {
   "cell_type": "code",
   "execution_count": 6,
   "id": "dbc7b36b",
   "metadata": {},
   "outputs": [
    {
     "name": "stdout",
     "output_type": "stream",
     "text": [
      "['2992186287194725-06-28' '2993842173352552-02-20'\n",
      " '2995498059510378-10-15' ... '6717930142304686-09-05'\n",
      " '6719586028462513-04-30' '6721241914620339-12-24']\n"
     ]
    }
   ],
   "source": [
    "# %%heat\n",
    "from frame import DataFrame\n",
    "import pandas as pd\n",
    "import numpy as np\n",
    "\n",
    "pdf = pd.read_csv(r\"C:\\Users\\evanw\\OneDrive\\Desktop\\AT\\Data\\GOOG.csv\", index_col=0)\n",
    "pdf.index = pd.to_datetime(pdf.index)\n",
    "\n",
    "df = DataFrame.from_pandas(pdf)\n",
    "\n",
    "def weekday(dt):\n",
    "    return (dt.astype('datetime64[D]').view('int64') - 3) % 7\n",
    "\n",
    "def resample(frame):\n",
    "    x = np.asarray(frame.index.keys_)\n",
    "    r = x[0]\n",
    "    start = (r.astype('datetime64[D]').view('int64') - weekday(r)).astype(\"datetime64[D]\")\n",
    "    \n",
    "    td = np.timedelta64(1, \"W\").astype(\"timedelta64[ns]\").astype(\"int64\")\n",
    "    \n",
    "    bins = np.arange(start=start, stop=x[-1], step=td)\n",
    "    print((bins))\n",
    "    d = np.digitize(x.astype(np.int64), bins.astype(np.int64), right=True)\n",
    "    count = np.bincount(d)[1:]\n",
    "    s = np.cumsum(count)\n",
    "    splitted = np.split(frame.Open.values, s)[:-1]\n",
    "    \n",
    "    length = len(splitted)\n",
    "    ret = np.zeros(length)\n",
    "    for l in range(length):\n",
    "        ret[l] = np.average(splitted[l])\n",
    "        \n",
    "fatso = resample(df)"
   ]
  },
  {
   "cell_type": "code",
   "execution_count": null,
   "id": "332c12d8",
   "metadata": {},
   "outputs": [],
   "source": []
  }
 ],
 "metadata": {
  "kernelspec": {
   "display_name": "Python 3 (ipykernel)",
   "language": "python",
   "name": "python3"
  },
  "language_info": {
   "codemirror_mode": {
    "name": "ipython",
    "version": 3
   },
   "file_extension": ".py",
   "mimetype": "text/x-python",
   "name": "python",
   "nbconvert_exporter": "python",
   "pygments_lexer": "ipython3",
   "version": "3.9.5"
  }
 },
 "nbformat": 4,
 "nbformat_minor": 5
}
