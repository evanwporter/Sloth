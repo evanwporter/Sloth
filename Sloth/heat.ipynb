{
 "cells": [
  {
   "cell_type": "code",
   "execution_count": null,
   "id": "8c1f07f9",
   "metadata": {},
   "outputs": [],
   "source": [
    "%load_ext heat"
   ]
  },
  {
   "cell_type": "code",
   "execution_count": 1,
   "id": "dbc7b36b",
   "metadata": {},
   "outputs": [],
   "source": [
    "# %%heat\n",
    "from frame import DataFrame\n",
    "import pandas as pd\n",
    "import numpy as np\n",
    "from conversions import Conversions\n",
    "\n",
    "pdf = pd.read_csv(r\"C:\\Users\\evanw\\OneDrive\\Desktop\\AT\\Data\\GOOG.csv\", index_col=0)\n",
    "pdf.index = pd.to_datetime(pdf.index)\n",
    "\n",
    "frame = DataFrame.from_pandas(pdf)\n",
    "\n",
    "freq = \"1W\""
   ]
  },
  {
   "cell_type": "code",
   "execution_count": 2,
   "id": "f58d1c8e",
   "metadata": {},
   "outputs": [
    {
     "ename": "KeyError",
     "evalue": "'Op is not a member of the index.'",
     "output_type": "error",
     "traceback": [
      "\u001b[1;31m---------------------------------------------------------------------------\u001b[0m",
      "\u001b[1;31mKeyError\u001b[0m                                  Traceback (most recent call last)",
      "File \u001b[1;32m~\\Sloth\\Sloth\\index.pyx:79\u001b[0m, in \u001b[0;36mindex.ObjectIndex.get_item\u001b[1;34m()\u001b[0m\n\u001b[0;32m     78\u001b[0m try:\n\u001b[1;32m---> 79\u001b[0m     ret = self.index[arg]\n\u001b[0;32m     80\u001b[0m except KeyError:\n",
      "\u001b[1;31mKeyError\u001b[0m: 'Op'",
      "\nDuring handling of the above exception, another exception occurred:\n",
      "\u001b[1;31mKeyError\u001b[0m                                  Traceback (most recent call last)",
      "Input \u001b[1;32mIn [2]\u001b[0m, in \u001b[0;36m<cell line: 1>\u001b[1;34m()\u001b[0m\n\u001b[1;32m----> 1\u001b[0m \u001b[43mframe\u001b[49m\u001b[38;5;241;43m.\u001b[39;49m\u001b[43mresample\u001b[49m\u001b[43m(\u001b[49m\u001b[38;5;124;43m\"\u001b[39;49m\u001b[38;5;124;43m1W\u001b[39;49m\u001b[38;5;124;43m\"\u001b[39;49m\u001b[43m)\u001b[49m\u001b[38;5;241;43m.\u001b[39;49m\u001b[43msum\u001b[49m\u001b[43m[\u001b[49m\u001b[38;5;124;43m\"\u001b[39;49m\u001b[38;5;124;43mOp\u001b[39;49m\u001b[38;5;124;43m\"\u001b[39;49m\u001b[43m]\u001b[49m\n",
      "File \u001b[1;32m~\\Sloth\\Sloth\\frame.pyx:227\u001b[0m, in \u001b[0;36mframe.DataFrame.__getitem__\u001b[1;34m()\u001b[0m\n\u001b[0;32m    225\u001b[0m     # str means that arg is a column name,\n\u001b[0;32m    226\u001b[0m     # thus a series will be returned\n\u001b[1;32m--> 227\u001b[0m     return self._handle_str(arg)\n\u001b[0;32m    228\u001b[0m     \n\u001b[0;32m    229\u001b[0m # elif isinstance(arg, slice):\n",
      "File \u001b[1;32m~\\Sloth\\Sloth\\frame.pyx:252\u001b[0m, in \u001b[0;36mframe.DataFrame._handle_str\u001b[1;34m()\u001b[0m\n\u001b[0;32m    250\u001b[0m return Series(\n\u001b[0;32m    251\u001b[0m     # A 1d numpy array\n\u001b[1;32m--> 252\u001b[0m     values=self.values[:, self.columns.get_item(arg)], \n\u001b[0;32m    253\u001b[0m     index=self.index, \n\u001b[0;32m    254\u001b[0m     name=arg\n",
      "File \u001b[1;32m~\\Sloth\\Sloth\\index.pyx:81\u001b[0m, in \u001b[0;36mindex.ObjectIndex.get_item\u001b[1;34m()\u001b[0m\n\u001b[0;32m     79\u001b[0m     ret = self.index[arg]\n\u001b[0;32m     80\u001b[0m except KeyError:\n\u001b[1;32m---> 81\u001b[0m     raise KeyError(\"%s is not a member of the index.\" % arg)\n\u001b[0;32m     82\u001b[0m \n\u001b[0;32m     83\u001b[0m # Ensures that the user is unable to access date outside of the\n",
      "\u001b[1;31mKeyError\u001b[0m: 'Op is not a member of the index.'"
     ]
    }
   ],
   "source": [
    "frame.resample(\"1W\").sum[[\"Open\", \"Op\"]]"
   ]
  },
  {
   "cell_type": "code",
   "execution_count": null,
   "id": "84b3e702",
   "metadata": {},
   "outputs": [],
   "source": [
    "pdf.resample(\"1W\").Volume.sum()"
   ]
  },
  {
   "cell_type": "code",
   "execution_count": null,
   "id": "db97503f",
   "metadata": {},
   "outputs": [],
   "source": [
    "def floor_(dt, timeframe):\n",
    "    c = Conversions()\n",
    "    if timeframe == \"W\":\n",
    "        i = (dt // c.D) * c.D\n",
    "        d = i - ( ( (i - 259200000000000) % 7 ) * c.D)\n",
    "    else:\n",
    "        d = (dt // getattr(c, timeframe)) * getattr(c, timeframe)\n",
    "    return d"
   ]
  },
  {
   "cell_type": "code",
   "execution_count": null,
   "id": "0fe37042",
   "metadata": {},
   "outputs": [],
   "source": [
    "def ceil_(dt, timeframe):\n",
    "    c = Conversions()\n",
    "\n",
    "    if timeframe == \"W\":\n",
    "        i = np.ceil(dt / c.D) * c.D\n",
    "        d = i + ((7 - ( (i - 259200000000000) % 7 )) * c.D)\n",
    "    else:\n",
    "        d = np.ceil(dt / getattr(c, timeframe)) * getattr(c, timeframe)\n",
    "    return (d)"
   ]
  },
  {
   "cell_type": "code",
   "execution_count": null,
   "id": "6d367e60",
   "metadata": {},
   "outputs": [],
   "source": [
    "index = frame.index.keys_\n",
    "\n",
    "interval = int(freq[:-1])\n",
    "timeframe = freq[-1]\n",
    "\n",
    "bins = np.arange(\n",
    "    start = floor_(index[0], timeframe), \n",
    "    stop = ceil_(index[-1], timeframe), \n",
    "    step = np.timedelta64(interval, timeframe).astype(\"timedelta64[ns]\").astype(\"int64\")\n",
    ")\n",
    "\n",
    "split_data = np.split(frame.values, np.cumsum(\n",
    "    np.bincount(np.digitize(index, bins, right=False))[1:]\n",
    "))[:-1]"
   ]
  },
  {
   "cell_type": "code",
   "execution_count": null,
   "id": "9388d112",
   "metadata": {},
   "outputs": [],
   "source": [
    "pdf.resample(freq).mean()"
   ]
  },
  {
   "cell_type": "code",
   "execution_count": null,
   "id": "dc9439c0",
   "metadata": {},
   "outputs": [],
   "source": [
    "a = np.array([\n",
    "    [1.00000e+02, 1.04060e+02, 9.59600e+01, 1.00340e+02, 2.23519e+07],\n",
    "    [1.01010e+02, 1.09080e+02, 1.00500e+02, 1.08310e+02, 1.14286e+07]\n",
    "])\n",
    "data[0] = np.mean(a, axis=0)\n",
    "data"
   ]
  },
  {
   "cell_type": "code",
   "execution_count": null,
   "id": "bf053fb9",
   "metadata": {},
   "outputs": [],
   "source": [
    "data = np.zeros((446, 5))"
   ]
  },
  {
   "cell_type": "code",
   "execution_count": null,
   "id": "2d9a3763",
   "metadata": {},
   "outputs": [],
   "source": [
    "np.mean(np.array([frame.resample(freq).split_data[0][0]]), axis=0)"
   ]
  },
  {
   "cell_type": "code",
   "execution_count": null,
   "id": "5833b362",
   "metadata": {},
   "outputs": [],
   "source": [
    "np.array([frame.resample(freq).split_data[0][0]])"
   ]
  },
  {
   "cell_type": "code",
   "execution_count": null,
   "id": "9e1ade2b",
   "metadata": {},
   "outputs": [],
   "source": [
    "np.mean(frame.resample(freq).split_data[0][0].reshape(1, -1))"
   ]
  },
  {
   "cell_type": "code",
   "execution_count": null,
   "id": "1f9c34eb",
   "metadata": {},
   "outputs": [],
   "source": [
    "pdf.values.shape"
   ]
  },
  {
   "cell_type": "code",
   "execution_count": null,
   "id": "6a48fbae",
   "metadata": {},
   "outputs": [],
   "source": [
    "l = len(split_data)\n",
    "o = np.zeros((l, 5))\n",
    "#cdef sub_array\n",
    "for sub_array in range(l):\n",
    "    o[sub_array] = np.mean(split_data[sub_array], axis=0)\n",
    "p = [np.mean(sub_array, axis=0) for sub_array in split_data]"
   ]
  },
  {
   "cell_type": "code",
   "execution_count": null,
   "id": "814e6d74",
   "metadata": {},
   "outputs": [],
   "source": [
    "o == frame.resample(freq).mean.values"
   ]
  }
 ],
 "metadata": {
  "kernelspec": {
   "display_name": "Python 3 (ipykernel)",
   "language": "python",
   "name": "python3"
  },
  "language_info": {
   "codemirror_mode": {
    "name": "ipython",
    "version": 3
   },
   "file_extension": ".py",
   "mimetype": "text/x-python",
   "name": "python",
   "nbconvert_exporter": "python",
   "pygments_lexer": "ipython3",
   "version": "3.9.5"
  }
 },
 "nbformat": 4,
 "nbformat_minor": 5
}
