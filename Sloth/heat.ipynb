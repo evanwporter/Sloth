{
 "cells": [
  {
   "cell_type": "code",
   "execution_count": null,
   "id": "8c1f07f9",
   "metadata": {},
   "outputs": [],
   "source": [
    "%load_ext heat"
   ]
  },
  {
   "cell_type": "code",
   "execution_count": 1,
   "id": "dbc7b36b",
   "metadata": {},
   "outputs": [],
   "source": [
    "# %%heat\n",
    "from frame import DataFrame\n",
    "import pandas as pd\n",
    "import numpy as np\n",
    "from conversions import Conversions\n",
    "\n",
    "pdf = pd.read_csv(r\"C:\\Users\\evanw\\OneDrive\\Desktop\\AT\\Data\\GOOG.csv\", index_col=0)\n",
    "pdf.index = pd.to_datetime(pdf.index)\n",
    "\n",
    "frame = DataFrame.from_pandas(pdf)\n",
    "\n",
    "freq = \"1W\""
   ]
  },
  {
   "cell_type": "code",
   "execution_count": 3,
   "id": "332c12d8",
   "metadata": {
    "scrolled": true
   },
   "outputs": [
    {
     "data": {
      "text/plain": [
       "              Open    High     Low   Close     Volume\n",
       "2004-09-02   99.19  102.37   98.94  101.51  7566900.0\n",
       "2004-09-03  100.95  101.74   99.32  100.01  2578800.0\n",
       "2004-09-07  101.01  102.00   99.61  101.58  2926700.0\n",
       "2004-09-08  100.74  103.03  100.50  102.30  2495300.0\n",
       "2004-09-09  102.53  102.71  101.00  102.31  2032900.0\n",
       "...            ...     ...     ...     ...        ...\n",
       "2013-02-25  802.30  808.41  790.49  790.77  2303900.0\n",
       "2013-02-26  795.00  795.95  784.40  790.13  2202500.0\n",
       "2013-02-27  794.80  804.75  791.11  799.78  2026100.0\n",
       "2013-02-28  801.10  806.99  801.03  801.20  2265800.0\n",
       "2013-03-01  797.80  807.14  796.15  806.19  2175400.0\n",
       "\n",
       "[2138 rows x 5 columns]"
      ]
     },
     "execution_count": 3,
     "metadata": {},
     "output_type": "execute_result"
    }
   ],
   "source": [
    "frame.iloc[10:]"
   ]
  },
  {
   "cell_type": "code",
   "execution_count": null,
   "id": "a7fd8ca9",
   "metadata": {},
   "outputs": [],
   "source": [
    "def floor_(dt, timeframe):\n",
    "    c = Conversions()\n",
    "    if timeframe == \"W\":\n",
    "        i = (dt // c.D) * c.D\n",
    "        d = i - ( ( (i - 259200000000000) % 7 ) * c.D)\n",
    "    else:\n",
    "        d = (dt // getattr(c, timeframe)) * getattr(c, timeframe)\n",
    "    return d"
   ]
  },
  {
   "cell_type": "code",
   "execution_count": null,
   "id": "2743bf4a",
   "metadata": {},
   "outputs": [],
   "source": [
    "def ceil_(dt, timeframe):\n",
    "    c = Conversions()\n",
    "\n",
    "    if timeframe == \"W\":\n",
    "        i = np.ceil(dt / c.D) * c.D\n",
    "        d = i + ((7 - ( (i - 259200000000000) % 7 )) * c.D)\n",
    "    else:\n",
    "        d = np.ceil(dt / getattr(c, timeframe)) * getattr(c, timeframe)\n",
    "    return (d)"
   ]
  },
  {
   "cell_type": "code",
   "execution_count": null,
   "id": "dba6998d",
   "metadata": {},
   "outputs": [],
   "source": [
    "index = frame.index.keys_\n",
    "\n",
    "interval = int(freq[:-1])\n",
    "timeframe = freq[-1]\n",
    "\n",
    "bins = np.arange(\n",
    "    start = floor_(index[0], timeframe), \n",
    "    stop = ceil_(index[-1], timeframe), \n",
    "    step = np.timedelta64(interval, timeframe).astype(\"timedelta64[ns]\").astype(\"int64\")\n",
    ")\n",
    "\n",
    "split_data = np.split(frame.values, np.cumsum(\n",
    "    np.bincount(np.digitize(index, bins, right=False))[1:]\n",
    "))[:-1]"
   ]
  },
  {
   "cell_type": "code",
   "execution_count": null,
   "id": "8cd38bea",
   "metadata": {},
   "outputs": [],
   "source": [
    "pdf.resample(freq).mean()"
   ]
  },
  {
   "cell_type": "code",
   "execution_count": null,
   "id": "9e856504",
   "metadata": {},
   "outputs": [],
   "source": [
    "a = np.array([\n",
    "    [1.00000e+02, 1.04060e+02, 9.59600e+01, 1.00340e+02, 2.23519e+07],\n",
    "    [1.01010e+02, 1.09080e+02, 1.00500e+02, 1.08310e+02, 1.14286e+07]\n",
    "])\n",
    "data[0] = np.mean(a, axis=0)\n",
    "data"
   ]
  },
  {
   "cell_type": "code",
   "execution_count": null,
   "id": "d135c115",
   "metadata": {},
   "outputs": [],
   "source": [
    "data = np.zeros((446, 5))"
   ]
  },
  {
   "cell_type": "code",
   "execution_count": null,
   "id": "ed2a011a",
   "metadata": {},
   "outputs": [],
   "source": [
    "np.mean(np.array([frame.resample(freq).split_data[0][0]]), axis=0)"
   ]
  },
  {
   "cell_type": "code",
   "execution_count": null,
   "id": "abf1b760",
   "metadata": {},
   "outputs": [],
   "source": [
    "np.array([frame.resample(freq).split_data[0][0]])"
   ]
  },
  {
   "cell_type": "code",
   "execution_count": null,
   "id": "794bbcab",
   "metadata": {},
   "outputs": [],
   "source": [
    "np.mean(frame.resample(freq).split_data[0][0].reshape(1, -1))"
   ]
  },
  {
   "cell_type": "code",
   "execution_count": null,
   "id": "f35a6907",
   "metadata": {},
   "outputs": [],
   "source": [
    "pdf.values.shape"
   ]
  },
  {
   "cell_type": "code",
   "execution_count": null,
   "id": "ec17d95e",
   "metadata": {},
   "outputs": [],
   "source": [
    "l = len(split_data)\n",
    "o = np.zeros((l, 5))\n",
    "#cdef sub_array\n",
    "for sub_array in range(l):\n",
    "    o[sub_array] = np.mean(split_data[sub_array], axis=0)\n",
    "p = [np.mean(sub_array, axis=0) for sub_array in split_data]"
   ]
  },
  {
   "cell_type": "code",
   "execution_count": null,
   "id": "88e7de1d",
   "metadata": {},
   "outputs": [],
   "source": [
    "o == frame.resample(freq).mean.values"
   ]
  }
 ],
 "metadata": {
  "kernelspec": {
   "display_name": "Python 3 (ipykernel)",
   "language": "python",
   "name": "python3"
  },
  "language_info": {
   "codemirror_mode": {
    "name": "ipython",
    "version": 3
   },
   "file_extension": ".py",
   "mimetype": "text/x-python",
   "name": "python",
   "nbconvert_exporter": "python",
   "pygments_lexer": "ipython3",
   "version": "3.9.5"
  }
 },
 "nbformat": 4,
 "nbformat_minor": 5
}
