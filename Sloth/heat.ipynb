{
 "cells": [
  {
   "cell_type": "code",
   "execution_count": null,
   "id": "8c1f07f9",
   "metadata": {},
   "outputs": [],
   "source": [
    "%load_ext heat"
   ]
  },
  {
   "cell_type": "code",
   "execution_count": 1,
   "id": "dbc7b36b",
   "metadata": {},
   "outputs": [],
   "source": [
    "# %%heat\n",
    "from frame import DataFrame\n",
    "import pandas as pd\n",
    "import numpy as np\n",
    "from conversions import Conversions\n",
    "\n",
    "pdf = pd.read_csv(r\"C:\\Users\\evanw\\OneDrive\\Desktop\\AT\\Data\\GOOG.csv\", index_col=0)\n",
    "pdf.index = pd.to_datetime(pdf.index)\n",
    "\n",
    "frame = DataFrame.from_pandas(pdf)\n",
    "\n",
    "freq = \"1W\""
   ]
  },
  {
   "cell_type": "code",
   "execution_count": 4,
   "id": "ad16568c",
   "metadata": {},
   "outputs": [
    {
     "data": {
      "text/plain": [
       "               Open     High      Low    Close      Volume\n",
       "2004-08-15   201.01   213.14   196.46   208.65  33780500.0\n",
       "2004-08-22   540.00   549.65   526.85   534.33  28027400.0\n",
       "2004-08-29   510.42   516.28   502.10   506.15  19781800.0\n",
       "2004-09-05   405.88   414.30   402.41   411.52  11808700.0\n",
       "2004-09-12   551.40   567.93   548.65   562.45  24086600.0\n",
       "...             ...      ...      ...      ...         ...\n",
       "2013-01-27  3760.96  3807.72  3755.69  3789.53  10487500.0\n",
       "2013-02-03  3837.72  3880.02  3821.30  3854.25  12849600.0\n",
       "2013-02-10  3907.41  3938.25  3897.93  3926.69   9690000.0\n",
       "2013-02-17  3198.55  3222.67  3172.09  3194.55  11256300.0\n",
       "2013-02-24  3991.00  4023.24  3963.18  3988.07  10973700.0\n",
       "\n",
       "[446 rows x 5 columns]"
      ]
     },
     "execution_count": 4,
     "metadata": {},
     "output_type": "execute_result"
    }
   ],
   "source": [
    "frame.resample(\"1W\").sum"
   ]
  },
  {
   "cell_type": "code",
   "execution_count": 10,
   "id": "50a738e1",
   "metadata": {},
   "outputs": [
    {
     "data": {
      "text/plain": [
       "2004-08-22    33780500\n",
       "2004-08-29    28027400\n",
       "2004-09-05    19781800\n",
       "2004-09-12    11808700\n",
       "2004-09-19    24086600\n",
       "                ...   \n",
       "2013-02-03    10487500\n",
       "2013-02-10    12849600\n",
       "2013-02-17     9690000\n",
       "2013-02-24    11256300\n",
       "2013-03-03    10973700\n",
       "Freq: W-SUN, Name: Volume, Length: 446, dtype: int64"
      ]
     },
     "execution_count": 10,
     "metadata": {},
     "output_type": "execute_result"
    }
   ],
   "source": [
    "pdf.resample(\"1W\").Volume.sum()"
   ]
  },
  {
   "cell_type": "code",
   "execution_count": null,
   "id": "761f9100",
   "metadata": {},
   "outputs": [],
   "source": [
    "def floor_(dt, timeframe):\n",
    "    c = Conversions()\n",
    "    if timeframe == \"W\":\n",
    "        i = (dt // c.D) * c.D\n",
    "        d = i - ( ( (i - 259200000000000) % 7 ) * c.D)\n",
    "    else:\n",
    "        d = (dt // getattr(c, timeframe)) * getattr(c, timeframe)\n",
    "    return d"
   ]
  },
  {
   "cell_type": "code",
   "execution_count": null,
   "id": "13eb414b",
   "metadata": {},
   "outputs": [],
   "source": [
    "def ceil_(dt, timeframe):\n",
    "    c = Conversions()\n",
    "\n",
    "    if timeframe == \"W\":\n",
    "        i = np.ceil(dt / c.D) * c.D\n",
    "        d = i + ((7 - ( (i - 259200000000000) % 7 )) * c.D)\n",
    "    else:\n",
    "        d = np.ceil(dt / getattr(c, timeframe)) * getattr(c, timeframe)\n",
    "    return (d)"
   ]
  },
  {
   "cell_type": "code",
   "execution_count": null,
   "id": "133937ed",
   "metadata": {},
   "outputs": [],
   "source": [
    "index = frame.index.keys_\n",
    "\n",
    "interval = int(freq[:-1])\n",
    "timeframe = freq[-1]\n",
    "\n",
    "bins = np.arange(\n",
    "    start = floor_(index[0], timeframe), \n",
    "    stop = ceil_(index[-1], timeframe), \n",
    "    step = np.timedelta64(interval, timeframe).astype(\"timedelta64[ns]\").astype(\"int64\")\n",
    ")\n",
    "\n",
    "split_data = np.split(frame.values, np.cumsum(\n",
    "    np.bincount(np.digitize(index, bins, right=False))[1:]\n",
    "))[:-1]"
   ]
  },
  {
   "cell_type": "code",
   "execution_count": null,
   "id": "4b1ba591",
   "metadata": {},
   "outputs": [],
   "source": [
    "pdf.resample(freq).mean()"
   ]
  },
  {
   "cell_type": "code",
   "execution_count": null,
   "id": "dd1245eb",
   "metadata": {},
   "outputs": [],
   "source": [
    "a = np.array([\n",
    "    [1.00000e+02, 1.04060e+02, 9.59600e+01, 1.00340e+02, 2.23519e+07],\n",
    "    [1.01010e+02, 1.09080e+02, 1.00500e+02, 1.08310e+02, 1.14286e+07]\n",
    "])\n",
    "data[0] = np.mean(a, axis=0)\n",
    "data"
   ]
  },
  {
   "cell_type": "code",
   "execution_count": null,
   "id": "3879ae50",
   "metadata": {},
   "outputs": [],
   "source": [
    "data = np.zeros((446, 5))"
   ]
  },
  {
   "cell_type": "code",
   "execution_count": null,
   "id": "4791b5cd",
   "metadata": {},
   "outputs": [],
   "source": [
    "np.mean(np.array([frame.resample(freq).split_data[0][0]]), axis=0)"
   ]
  },
  {
   "cell_type": "code",
   "execution_count": null,
   "id": "8f624905",
   "metadata": {},
   "outputs": [],
   "source": [
    "np.array([frame.resample(freq).split_data[0][0]])"
   ]
  },
  {
   "cell_type": "code",
   "execution_count": null,
   "id": "e78666fc",
   "metadata": {},
   "outputs": [],
   "source": [
    "np.mean(frame.resample(freq).split_data[0][0].reshape(1, -1))"
   ]
  },
  {
   "cell_type": "code",
   "execution_count": null,
   "id": "aa0fa10b",
   "metadata": {},
   "outputs": [],
   "source": [
    "pdf.values.shape"
   ]
  },
  {
   "cell_type": "code",
   "execution_count": null,
   "id": "a49ec49d",
   "metadata": {},
   "outputs": [],
   "source": [
    "l = len(split_data)\n",
    "o = np.zeros((l, 5))\n",
    "#cdef sub_array\n",
    "for sub_array in range(l):\n",
    "    o[sub_array] = np.mean(split_data[sub_array], axis=0)\n",
    "p = [np.mean(sub_array, axis=0) for sub_array in split_data]"
   ]
  },
  {
   "cell_type": "code",
   "execution_count": null,
   "id": "addfaa7e",
   "metadata": {},
   "outputs": [],
   "source": [
    "o == frame.resample(freq).mean.values"
   ]
  }
 ],
 "metadata": {
  "kernelspec": {
   "display_name": "Python 3 (ipykernel)",
   "language": "python",
   "name": "python3"
  },
  "language_info": {
   "codemirror_mode": {
    "name": "ipython",
    "version": 3
   },
   "file_extension": ".py",
   "mimetype": "text/x-python",
   "name": "python",
   "nbconvert_exporter": "python",
   "pygments_lexer": "ipython3",
   "version": "3.9.5"
  }
 },
 "nbformat": 4,
 "nbformat_minor": 5
}
