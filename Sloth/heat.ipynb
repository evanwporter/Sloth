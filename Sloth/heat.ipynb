{
 "cells": [
  {
   "cell_type": "code",
   "execution_count": 1,
   "id": "8c1f07f9",
   "metadata": {},
   "outputs": [],
   "source": [
    "%load_ext heat"
   ]
  },
  {
   "cell_type": "code",
   "execution_count": 1,
   "id": "dbc7b36b",
   "metadata": {},
   "outputs": [],
   "source": [
    "# %%heat\n",
    "from frame import DataFrame\n",
    "import pandas as pd\n",
    "import numpy as np\n",
    "from conversions import Conversions\n",
    "\n",
    "pdf = pd.read_csv(r\"C:\\Users\\evanw\\OneDrive\\Desktop\\AT\\Data\\GOOG.csv\", index_col=0)\n",
    "pdf.index = pd.to_datetime(pdf.index)\n",
    "\n",
    "frame = DataFrame.from_pandas(pdf)\n",
    "\n",
    "freq = \"1W\""
   ]
  },
  {
   "cell_type": "code",
   "execution_count": 2,
   "id": "3cca3906",
   "metadata": {},
   "outputs": [
    {
     "data": {
      "text/plain": [
       "                Open      High       Low     Close      Volume\n",
       "2004-08-15  100.5050  106.5700   98.2300  104.3250  16890250.0\n",
       "2004-08-22  108.0000  109.9300  105.3700  106.8660   5605480.0\n",
       "2004-08-29  102.0840  103.2560  100.4200  101.2300   3956360.0\n",
       "2004-09-05  101.4700  103.5750  100.6025  102.8800   2952175.0\n",
       "2004-09-12  110.2800  113.5860  109.7300  112.4900   4817320.0\n",
       "...              ...       ...       ...       ...         ...\n",
       "2013-01-27  752.1920  761.5440  751.1380  757.9060   2097500.0\n",
       "2013-02-03  767.5440  776.0040  764.2600  770.8500   2569920.0\n",
       "2013-02-10  781.4820  787.6500  779.5860  785.3380   1938000.0\n",
       "2013-02-17  799.6375  805.6675  793.0225  798.6375   2814075.0\n",
       "2013-02-24  798.2000  804.6480  792.6360  797.6140   2194740.0\n",
       "\n",
       "[446 rows x 5 columns]"
      ]
     },
     "execution_count": 2,
     "metadata": {},
     "output_type": "execute_result"
    }
   ],
   "source": [
    "frame.resample(freq).mean"
   ]
  },
  {
   "cell_type": "code",
   "execution_count": null,
   "id": "332c12d8",
   "metadata": {
    "scrolled": true
   },
   "outputs": [],
   "source": [
    "pdf.resample(\"1W\").mean()"
   ]
  },
  {
   "cell_type": "code",
   "execution_count": null,
   "id": "e9f39104",
   "metadata": {},
   "outputs": [],
   "source": [
    "def floor_(dt, timeframe):\n",
    "    c = Conversions()\n",
    "    if timeframe == \"W\":\n",
    "        i = (dt // c.D) * c.D\n",
    "        d = i - ( ( (i - 259200000000000) % 7 ) * c.D)\n",
    "    else:\n",
    "        d = (dt // getattr(c, timeframe)) * getattr(c, timeframe)\n",
    "    return d"
   ]
  },
  {
   "cell_type": "code",
   "execution_count": null,
   "id": "71852d9b",
   "metadata": {},
   "outputs": [],
   "source": [
    "def ceil_(dt, timeframe):\n",
    "    c = Conversions()\n",
    "\n",
    "    if timeframe == \"W\":\n",
    "        i = np.ceil(dt / c.D) * c.D\n",
    "        d = i + ((7 - ( (i - 259200000000000) % 7 )) * c.D)\n",
    "    else:\n",
    "        d = np.ceil(dt / getattr(c, timeframe)) * getattr(c, timeframe)\n",
    "    return (d)"
   ]
  },
  {
   "cell_type": "code",
   "execution_count": null,
   "id": "174c0a16",
   "metadata": {},
   "outputs": [],
   "source": [
    "index = frame.index.keys_\n",
    "\n",
    "interval = int(freq[:-1])\n",
    "timeframe = freq[-1]\n",
    "\n",
    "bins = np.arange(\n",
    "    start = floor_(index[0], timeframe), \n",
    "    stop = ceil_(index[-1], timeframe), \n",
    "    step = np.timedelta64(interval, timeframe).astype(\"timedelta64[ns]\").astype(\"int64\")\n",
    ")\n",
    "\n",
    "split_data = np.split(frame.values, np.cumsum(\n",
    "    np.bincount(np.digitize(index, bins, right=False))[1:]\n",
    "))[:-1]"
   ]
  },
  {
   "cell_type": "code",
   "execution_count": null,
   "id": "b6790506",
   "metadata": {},
   "outputs": [],
   "source": [
    "pdf.resample(freq).mean()"
   ]
  },
  {
   "cell_type": "code",
   "execution_count": null,
   "id": "04e70884",
   "metadata": {},
   "outputs": [],
   "source": [
    "a = np.array([\n",
    "    [1.00000e+02, 1.04060e+02, 9.59600e+01, 1.00340e+02, 2.23519e+07],\n",
    "    [1.01010e+02, 1.09080e+02, 1.00500e+02, 1.08310e+02, 1.14286e+07]\n",
    "])\n",
    "data[0] = np.mean(a, axis=0)\n",
    "data"
   ]
  },
  {
   "cell_type": "code",
   "execution_count": null,
   "id": "1dfede36",
   "metadata": {},
   "outputs": [],
   "source": [
    "data = np.zeros((446, 5))"
   ]
  },
  {
   "cell_type": "code",
   "execution_count": null,
   "id": "19e596dc",
   "metadata": {},
   "outputs": [],
   "source": [
    "np.mean(np.array([frame.resample(freq).split_data[0][0]]), axis=0)"
   ]
  },
  {
   "cell_type": "code",
   "execution_count": null,
   "id": "c8bfbcaa",
   "metadata": {},
   "outputs": [],
   "source": [
    "np.array([frame.resample(freq).split_data[0][0]])"
   ]
  },
  {
   "cell_type": "code",
   "execution_count": null,
   "id": "c4059de8",
   "metadata": {},
   "outputs": [],
   "source": [
    "np.mean(frame.resample(freq).split_data[0][0].reshape(1, -1))"
   ]
  },
  {
   "cell_type": "code",
   "execution_count": null,
   "id": "8a3826fc",
   "metadata": {},
   "outputs": [],
   "source": [
    "pdf.values.shape"
   ]
  },
  {
   "cell_type": "code",
   "execution_count": null,
   "id": "e3fa82a6",
   "metadata": {},
   "outputs": [],
   "source": [
    "l = len(split_data)\n",
    "o = np.zeros((l, 5))\n",
    "#cdef sub_array\n",
    "for sub_array in range(l):\n",
    "    o[sub_array] = np.mean(split_data[sub_array], axis=0)\n",
    "p = [np.mean(sub_array, axis=0) for sub_array in split_data]"
   ]
  },
  {
   "cell_type": "code",
   "execution_count": null,
   "id": "3e73b19a",
   "metadata": {},
   "outputs": [],
   "source": [
    "o == frame.resample(freq).mean.values"
   ]
  }
 ],
 "metadata": {
  "kernelspec": {
   "display_name": "Python 3 (ipykernel)",
   "language": "python",
   "name": "python3"
  },
  "language_info": {
   "codemirror_mode": {
    "name": "ipython",
    "version": 3
   },
   "file_extension": ".py",
   "mimetype": "text/x-python",
   "name": "python",
   "nbconvert_exporter": "python",
   "pygments_lexer": "ipython3",
   "version": "3.9.5"
  }
 },
 "nbformat": 4,
 "nbformat_minor": 5
}
