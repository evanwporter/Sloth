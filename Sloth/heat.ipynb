{
 "cells": [
  {
   "cell_type": "code",
   "execution_count": null,
   "id": "8c1f07f9",
   "metadata": {},
   "outputs": [],
   "source": [
    "%load_ext heat"
   ]
  },
  {
   "cell_type": "code",
   "execution_count": 1,
   "id": "dbc7b36b",
   "metadata": {},
   "outputs": [],
   "source": [
    "# %%heat\n",
    "from frame import DataFrame\n",
    "import pandas as pd\n",
    "import numpy as np\n",
    "from conversions import Conversions\n",
    "\n",
    "pdf = pd.read_csv(r\"C:\\Users\\evanw\\OneDrive\\Desktop\\AT\\Data\\GOOG.csv\", index_col=0)\n",
    "pdf.index = pd.to_datetime(pdf.index)\n",
    "\n",
    "frame = DataFrame.from_pandas(pdf)\n",
    "\n",
    "freq = \"1W\""
   ]
  },
  {
   "cell_type": "code",
   "execution_count": 2,
   "id": "2dac38c5",
   "metadata": {},
   "outputs": [
    {
     "data": {
      "text/plain": [
       "(2148, 5)"
      ]
     },
     "execution_count": 2,
     "metadata": {},
     "output_type": "execute_result"
    }
   ],
   "source": [
    "frame.shape"
   ]
  },
  {
   "cell_type": "code",
   "execution_count": 3,
   "id": "69606318",
   "metadata": {},
   "outputs": [
    {
     "data": {
      "text/html": [
       "<div>\n",
       "<style scoped>\n",
       "    .dataframe tbody tr th:only-of-type {\n",
       "        vertical-align: middle;\n",
       "    }\n",
       "\n",
       "    .dataframe tbody tr th {\n",
       "        vertical-align: top;\n",
       "    }\n",
       "\n",
       "    .dataframe thead th {\n",
       "        text-align: right;\n",
       "    }\n",
       "</style>\n",
       "<table border=\"1\" class=\"dataframe\">\n",
       "  <thead>\n",
       "    <tr style=\"text-align: right;\">\n",
       "      <th></th>\n",
       "      <th>Open</th>\n",
       "      <th>High</th>\n",
       "      <th>Low</th>\n",
       "      <th>Close</th>\n",
       "      <th>Volume</th>\n",
       "    </tr>\n",
       "  </thead>\n",
       "  <tbody>\n",
       "    <tr>\n",
       "      <th>2004-08-19</th>\n",
       "      <td>100.00</td>\n",
       "      <td>104.06</td>\n",
       "      <td>95.96</td>\n",
       "      <td>100.34</td>\n",
       "      <td>22351900</td>\n",
       "    </tr>\n",
       "    <tr>\n",
       "      <th>2004-08-20</th>\n",
       "      <td>101.01</td>\n",
       "      <td>109.08</td>\n",
       "      <td>100.50</td>\n",
       "      <td>108.31</td>\n",
       "      <td>11428600</td>\n",
       "    </tr>\n",
       "    <tr>\n",
       "      <th>2004-08-23</th>\n",
       "      <td>110.75</td>\n",
       "      <td>113.48</td>\n",
       "      <td>109.05</td>\n",
       "      <td>109.40</td>\n",
       "      <td>9137200</td>\n",
       "    </tr>\n",
       "    <tr>\n",
       "      <th>2004-08-24</th>\n",
       "      <td>111.24</td>\n",
       "      <td>111.60</td>\n",
       "      <td>103.57</td>\n",
       "      <td>104.87</td>\n",
       "      <td>7631300</td>\n",
       "    </tr>\n",
       "    <tr>\n",
       "      <th>2004-08-25</th>\n",
       "      <td>104.96</td>\n",
       "      <td>108.00</td>\n",
       "      <td>103.88</td>\n",
       "      <td>106.00</td>\n",
       "      <td>4598900</td>\n",
       "    </tr>\n",
       "    <tr>\n",
       "      <th>...</th>\n",
       "      <td>...</td>\n",
       "      <td>...</td>\n",
       "      <td>...</td>\n",
       "      <td>...</td>\n",
       "      <td>...</td>\n",
       "    </tr>\n",
       "    <tr>\n",
       "      <th>2013-02-25</th>\n",
       "      <td>802.30</td>\n",
       "      <td>808.41</td>\n",
       "      <td>790.49</td>\n",
       "      <td>790.77</td>\n",
       "      <td>2303900</td>\n",
       "    </tr>\n",
       "    <tr>\n",
       "      <th>2013-02-26</th>\n",
       "      <td>795.00</td>\n",
       "      <td>795.95</td>\n",
       "      <td>784.40</td>\n",
       "      <td>790.13</td>\n",
       "      <td>2202500</td>\n",
       "    </tr>\n",
       "    <tr>\n",
       "      <th>2013-02-27</th>\n",
       "      <td>794.80</td>\n",
       "      <td>804.75</td>\n",
       "      <td>791.11</td>\n",
       "      <td>799.78</td>\n",
       "      <td>2026100</td>\n",
       "    </tr>\n",
       "    <tr>\n",
       "      <th>2013-02-28</th>\n",
       "      <td>801.10</td>\n",
       "      <td>806.99</td>\n",
       "      <td>801.03</td>\n",
       "      <td>801.20</td>\n",
       "      <td>2265800</td>\n",
       "    </tr>\n",
       "    <tr>\n",
       "      <th>2013-03-01</th>\n",
       "      <td>797.80</td>\n",
       "      <td>807.14</td>\n",
       "      <td>796.15</td>\n",
       "      <td>806.19</td>\n",
       "      <td>2175400</td>\n",
       "    </tr>\n",
       "  </tbody>\n",
       "</table>\n",
       "<p>2148 rows × 5 columns</p>\n",
       "</div>"
      ],
      "text/plain": [
       "              Open    High     Low   Close    Volume\n",
       "2004-08-19  100.00  104.06   95.96  100.34  22351900\n",
       "2004-08-20  101.01  109.08  100.50  108.31  11428600\n",
       "2004-08-23  110.75  113.48  109.05  109.40   9137200\n",
       "2004-08-24  111.24  111.60  103.57  104.87   7631300\n",
       "2004-08-25  104.96  108.00  103.88  106.00   4598900\n",
       "...            ...     ...     ...     ...       ...\n",
       "2013-02-25  802.30  808.41  790.49  790.77   2303900\n",
       "2013-02-26  795.00  795.95  784.40  790.13   2202500\n",
       "2013-02-27  794.80  804.75  791.11  799.78   2026100\n",
       "2013-02-28  801.10  806.99  801.03  801.20   2265800\n",
       "2013-03-01  797.80  807.14  796.15  806.19   2175400\n",
       "\n",
       "[2148 rows x 5 columns]"
      ]
     },
     "execution_count": 3,
     "metadata": {},
     "output_type": "execute_result"
    }
   ],
   "source": [
    "pdf.iloc[0:]"
   ]
  },
  {
   "cell_type": "code",
   "execution_count": null,
   "id": "332c12d8",
   "metadata": {
    "scrolled": true
   },
   "outputs": [],
   "source": [
    "frame.iloc[0:]"
   ]
  },
  {
   "cell_type": "code",
   "execution_count": null,
   "id": "f91bb9b4",
   "metadata": {},
   "outputs": [],
   "source": [
    "def floor_(dt, timeframe):\n",
    "    c = Conversions()\n",
    "    if timeframe == \"W\":\n",
    "        i = (dt // c.D) * c.D\n",
    "        d = i - ( ( (i - 259200000000000) % 7 ) * c.D)\n",
    "    else:\n",
    "        d = (dt // getattr(c, timeframe)) * getattr(c, timeframe)\n",
    "    return d"
   ]
  },
  {
   "cell_type": "code",
   "execution_count": null,
   "id": "3022159b",
   "metadata": {},
   "outputs": [],
   "source": [
    "def ceil_(dt, timeframe):\n",
    "    c = Conversions()\n",
    "\n",
    "    if timeframe == \"W\":\n",
    "        i = np.ceil(dt / c.D) * c.D\n",
    "        d = i + ((7 - ( (i - 259200000000000) % 7 )) * c.D)\n",
    "    else:\n",
    "        d = np.ceil(dt / getattr(c, timeframe)) * getattr(c, timeframe)\n",
    "    return (d)"
   ]
  },
  {
   "cell_type": "code",
   "execution_count": null,
   "id": "55404d7b",
   "metadata": {},
   "outputs": [],
   "source": [
    "index = frame.index.keys_\n",
    "\n",
    "interval = int(freq[:-1])\n",
    "timeframe = freq[-1]\n",
    "\n",
    "bins = np.arange(\n",
    "    start = floor_(index[0], timeframe), \n",
    "    stop = ceil_(index[-1], timeframe), \n",
    "    step = np.timedelta64(interval, timeframe).astype(\"timedelta64[ns]\").astype(\"int64\")\n",
    ")\n",
    "\n",
    "split_data = np.split(frame.values, np.cumsum(\n",
    "    np.bincount(np.digitize(index, bins, right=False))[1:]\n",
    "))[:-1]"
   ]
  },
  {
   "cell_type": "code",
   "execution_count": null,
   "id": "ea5ece56",
   "metadata": {},
   "outputs": [],
   "source": [
    "pdf.resample(freq).mean()"
   ]
  },
  {
   "cell_type": "code",
   "execution_count": null,
   "id": "1236f684",
   "metadata": {},
   "outputs": [],
   "source": [
    "a = np.array([\n",
    "    [1.00000e+02, 1.04060e+02, 9.59600e+01, 1.00340e+02, 2.23519e+07],\n",
    "    [1.01010e+02, 1.09080e+02, 1.00500e+02, 1.08310e+02, 1.14286e+07]\n",
    "])\n",
    "data[0] = np.mean(a, axis=0)\n",
    "data"
   ]
  },
  {
   "cell_type": "code",
   "execution_count": null,
   "id": "9cec0f7e",
   "metadata": {},
   "outputs": [],
   "source": [
    "data = np.zeros((446, 5))"
   ]
  },
  {
   "cell_type": "code",
   "execution_count": null,
   "id": "6407c095",
   "metadata": {},
   "outputs": [],
   "source": [
    "np.mean(np.array([frame.resample(freq).split_data[0][0]]), axis=0)"
   ]
  },
  {
   "cell_type": "code",
   "execution_count": null,
   "id": "0ab30a99",
   "metadata": {},
   "outputs": [],
   "source": [
    "np.array([frame.resample(freq).split_data[0][0]])"
   ]
  },
  {
   "cell_type": "code",
   "execution_count": null,
   "id": "21e9c6db",
   "metadata": {},
   "outputs": [],
   "source": [
    "np.mean(frame.resample(freq).split_data[0][0].reshape(1, -1))"
   ]
  },
  {
   "cell_type": "code",
   "execution_count": null,
   "id": "d2bf906f",
   "metadata": {},
   "outputs": [],
   "source": [
    "pdf.values.shape"
   ]
  },
  {
   "cell_type": "code",
   "execution_count": null,
   "id": "16f7671b",
   "metadata": {},
   "outputs": [],
   "source": [
    "l = len(split_data)\n",
    "o = np.zeros((l, 5))\n",
    "#cdef sub_array\n",
    "for sub_array in range(l):\n",
    "    o[sub_array] = np.mean(split_data[sub_array], axis=0)\n",
    "p = [np.mean(sub_array, axis=0) for sub_array in split_data]"
   ]
  },
  {
   "cell_type": "code",
   "execution_count": null,
   "id": "af0dc23b",
   "metadata": {},
   "outputs": [],
   "source": [
    "o == frame.resample(freq).mean.values"
   ]
  }
 ],
 "metadata": {
  "kernelspec": {
   "display_name": "Python 3 (ipykernel)",
   "language": "python",
   "name": "python3"
  },
  "language_info": {
   "codemirror_mode": {
    "name": "ipython",
    "version": 3
   },
   "file_extension": ".py",
   "mimetype": "text/x-python",
   "name": "python",
   "nbconvert_exporter": "python",
   "pygments_lexer": "ipython3",
   "version": "3.9.5"
  }
 },
 "nbformat": 4,
 "nbformat_minor": 5
}
