{
 "cells": [
  {
   "cell_type": "code",
   "execution_count": null,
   "id": "64bda1de",
   "metadata": {},
   "outputs": [],
   "source": [
    "%load_ext cython"
   ]
  },
  {
   "cell_type": "code",
   "execution_count": null,
   "id": "372d02fc",
   "metadata": {},
   "outputs": [],
   "source": [
    "import pandas as pd\n",
    "import numpy as np\n",
    "df = pd.DataFrame(np.random.randint(0,100,size=(100, 5)), columns=list('ABCDF'))\n",
    "df.head()"
   ]
  },
  {
   "cell_type": "code",
   "execution_count": 2,
   "id": "3b2d0da3",
   "metadata": {},
   "outputs": [
    {
     "ename": "ModuleNotFoundError",
     "evalue": "No module named 'index'",
     "output_type": "error",
     "traceback": [
      "\u001b[1;31m---------------------------------------------------------------------------\u001b[0m",
      "\u001b[1;31mModuleNotFoundError\u001b[0m                       Traceback (most recent call last)",
      "Input \u001b[1;32mIn [2]\u001b[0m, in \u001b[0;36m<cell line: 1>\u001b[1;34m()\u001b[0m\n\u001b[1;32m----> 1\u001b[0m \u001b[38;5;28;01mfrom\u001b[39;00m \u001b[38;5;21;01msrc\u001b[39;00m\u001b[38;5;21;01m.\u001b[39;00m\u001b[38;5;21;01mframe\u001b[39;00m \u001b[38;5;28;01mimport\u001b[39;00m DataFrame\n",
      "File \u001b[1;32m~\\OneDrive\\Desktop\\Sloth\\Sloth\\frame.pyx:1\u001b[0m, in \u001b[0;36minit frame\u001b[1;34m()\u001b[0m\n\u001b[1;32m----> 1\u001b[0m # cython: profile=True\n\u001b[0;32m      2\u001b[0m \n\u001b[0;32m      3\u001b[0m cimport numpy as np\n",
      "\u001b[1;31mModuleNotFoundError\u001b[0m: No module named 'index'"
     ]
    }
   ],
   "source": [
    "from src.frame import DataFrame"
   ]
  },
  {
   "cell_type": "code",
   "execution_count": null,
   "id": "31ae897a",
   "metadata": {},
   "outputs": [],
   "source": [
    "df = DataFrame(np.random.randint(0,100,size=(5, 5)), columns=list('ABCDF'), index = [1, 2, 3, 4, 5])"
   ]
  },
  {
   "cell_type": "code",
   "execution_count": null,
   "id": "bb1774af",
   "metadata": {},
   "outputs": [],
   "source": [
    "df"
   ]
  },
  {
   "cell_type": "code",
   "execution_count": null,
   "id": "9554d7d2",
   "metadata": {},
   "outputs": [],
   "source": [
    "%%cython -a\n",
    "cimport frame\n",
    "import numpy as np\n",
    "import pandas as pd\n",
    "\n",
    "\n",
    "df = pd.DataFrame(np.random.randint(0,100,size=(100, 5)), columns=list('ABCDF'))\n",
    "df2 = frame.DataFrame.from_pandas(df)"
   ]
  },
  {
   "cell_type": "code",
   "execution_count": null,
   "id": "62f9cb32",
   "metadata": {},
   "outputs": [],
   "source": [
    "df2"
   ]
  }
 ],
 "metadata": {
  "kernelspec": {
   "display_name": "Python 3 (ipykernel)",
   "language": "python",
   "name": "python3"
  },
  "language_info": {
   "codemirror_mode": {
    "name": "ipython",
    "version": 3
   },
   "file_extension": ".py",
   "mimetype": "text/x-python",
   "name": "python",
   "nbconvert_exporter": "python",
   "pygments_lexer": "ipython3",
   "version": "3.9.5"
  }
 },
 "nbformat": 4,
 "nbformat_minor": 5
}
