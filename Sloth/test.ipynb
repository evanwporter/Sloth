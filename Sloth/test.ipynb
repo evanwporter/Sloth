{
 "cells": [
  {
   "cell_type": "code",
   "execution_count": null,
   "id": "7df016b8",
   "metadata": {},
   "outputs": [],
   "source": [
    "%load_ext cython\n",
    "%load_ext heat"
   ]
  },
  {
   "cell_type": "code",
   "execution_count": null,
   "id": "9f8f5340",
   "metadata": {},
   "outputs": [],
   "source": [
    "%load_ext line_profiler\n",
    "import line_profiler"
   ]
  },
  {
   "cell_type": "code",
   "execution_count": null,
   "id": "db1a3c25",
   "metadata": {},
   "outputs": [],
   "source": [
    "import Cython"
   ]
  },
  {
   "cell_type": "code",
   "execution_count": null,
   "id": "264b05bb",
   "metadata": {},
   "outputs": [],
   "source": [
    "#Set compiler directives (cf. http://docs.cython.org/src/reference/compilation.html)\n",
    "directive_defaults = Cython.Compiler.Options.get_directive_defaults() \n",
    "directive_defaults['linetrace'] = True\n",
    "directive_defaults['binding'] = True"
   ]
  },
  {
   "cell_type": "code",
   "execution_count": null,
   "id": "eda3ba82",
   "metadata": {},
   "outputs": [],
   "source": [
    "from frame import DataFrame\n",
    "import pandas as pd\n",
    "import numpy as np\n",
    "\n",
    "pdf = pd.read_csv(r\"C:\\Users\\evanw\\OneDrive\\Desktop\\AT\\Data\\Binance-BTCUSDT.csv\", index_col=0)\n",
    "pdf.index = pd.to_datetime(pdf.index)\n",
    "\n",
    "df = DataFrame.from_pandas(pdf)"
   ]
  },
  {
   "cell_type": "code",
   "execution_count": null,
   "id": "db378b43",
   "metadata": {},
   "outputs": [],
   "source": [
    "df.resample(\"1h\").mean"
   ]
  },
  {
   "cell_type": "code",
   "execution_count": null,
   "id": "24320556",
   "metadata": {},
   "outputs": [],
   "source": [
    "from conversions import Conversions"
   ]
  },
  {
   "cell_type": "code",
   "execution_count": null,
   "id": "a1204912",
   "metadata": {},
   "outputs": [],
   "source": [
    "c = Conversions()\n",
    "dir(c)"
   ]
  },
  {
   "cell_type": "code",
   "execution_count": null,
   "id": "e315c8c3",
   "metadata": {},
   "outputs": [],
   "source": [
    "%timeit df.resample(\"f\").mean"
   ]
  },
  {
   "cell_type": "code",
   "execution_count": null,
   "id": "f1a77456",
   "metadata": {},
   "outputs": [],
   "source": [
    "%timeit pdf.Open.resample(\"1W\").mean()"
   ]
  },
  {
   "cell_type": "code",
   "execution_count": null,
   "id": "dcc47547",
   "metadata": {},
   "outputs": [],
   "source": [
    "%%cython\n",
    "\n",
    "import numpy as np\n",
    "cimport numpy as cnp\n",
    "\n",
    "from cpython cimport str\n",
    "\n",
    "from util cimport datetime64, timedelta64\n",
    "\n",
    "# May change to double depending on what I use\n",
    "# this function for\n",
    "cdef inline cnp.int64_t ns_to_days(cnp.int64_t ns):\n",
    "    # 10^9 ns to 1 sec\n",
    "    # 60 sec to 1 min\n",
    "    # 60 min to 1 hour\n",
    "    # 24 hour to 1 day\n",
    "    # (10 ** 9) * 60 * 60 * 24\n",
    "    # 86400000000000 ns = 1 day\n",
    "    return ns / 86400000000000\n",
    "\n",
    "cdef inline cnp.int64_t days_to_ns(cnp.int64_t days):\n",
    "    return days * 86400000000000\n",
    "\n",
    "cdef enum conversions:\n",
    "    s = 10 ** 9 # ns\n",
    "    m = 60 * (10**9) \n",
    "    h = 60 * 60 * (10**9) \n",
    "    D = 24 * 60 * 60 * (10**9)\n",
    "    W = 24 * 60 * 60 * (10**9) * 7\n",
    "\n",
    "cdef split_freq(str freq):\n",
    "    return int(freq[:-1]), freq[-1]\n",
    "\n",
    "cdef datetime64 floor_(datetime64 dt, str timeframe):\n",
    "    if timeframe == \"W\":\n",
    "        i = np.floor(dt / conversions.D) * conversions.D\n",
    "        d = i - ( ( (i - 259200000000000) % 7 ) * conversions.D)\n",
    "    else:\n",
    "        d = np.floor(dt / getattr(conversions, timeframe)) * getattr(conversions, timeframe)\n",
    "    return d\n",
    "\n",
    "cdef datetime64 ceil_(datetime64 dt, str timeframe):\n",
    "    if timeframe == \"W\":\n",
    "        i = np.ceil(dt / conversions.D) * conversions.D\n",
    "        d = i + ((7 - ( (i - 259200000000000) % 7 )) * conversions.D)\n",
    "    else:\n",
    "        d = np.ceil(dt / getattr(conversions, timeframe)) * getattr(conversions, timeframe)\n",
    "    return d\n",
    "\n",
    "def resample(frame, freq):\n",
    "    cdef datetime64[:] index = frame.index.keys_\n",
    "    cdef datetime64 index0 = index[0]\n",
    "    \n",
    "#     cdef datetime64 week_start = index0 - weekday(index0)\n",
    "#     cdef datetime64 stop = index[-1] + (days_to_ns(7) - weekday(index[-1]))\n",
    "    \n",
    "    interval, timeframe = split_freq(freq)\n",
    "\n",
    "    # dt is in nanoseconds\n",
    "        \n",
    "    cdef timedelta64 td = np.timedelta64(1, \"W\").astype(\"timedelta64[ns]\").astype(\"int64\")\n",
    "    \n",
    "    cdef datetime64[:] bins = np.arange(\n",
    "        start = floor_(index[0], timeframe), \n",
    "        stop = ceil_(index[-1], timeframe), \n",
    "        step = np.timedelta64(interval, timeframe).astype(\"timedelta64[ns]\").astype(\"int64\")\n",
    "    )\n",
    "\n",
    "    cdef splitted = np.split(frame.Open.values, np.cumsum(\n",
    "        np.bincount(np.digitize(index, bins, right=False))[1:]\n",
    "    ))[:-1]\n",
    "    \n",
    "\n",
    "    cdef int length = len(splitted)\n",
    "    cdef double[:] ret = np.zeros(length)\n",
    "    \n",
    "    for l in range(length):\n",
    "        ret[l] = np.average(splitted[l])\n",
    "        \n",
    "    return ret, bins"
   ]
  },
  {
   "cell_type": "code",
   "execution_count": null,
   "id": "5ee7da5b",
   "metadata": {},
   "outputs": [],
   "source": [
    "resample"
   ]
  },
  {
   "cell_type": "code",
   "execution_count": null,
   "id": "c7d3ed0c",
   "metadata": {},
   "outputs": [],
   "source": [
    "#Print profiling statistics using the `line_profiler` API\n",
    "profile = line_profiler.LineProfiler(resample)\n",
    "profile.runcall(resample, df)\n",
    "profile.print_stats()"
   ]
  },
  {
   "cell_type": "code",
   "execution_count": null,
   "id": "cc263562",
   "metadata": {},
   "outputs": [],
   "source": [
    "%lprun -f approx_pi -f recip_square approx_pi(1000000)"
   ]
  },
  {
   "cell_type": "code",
   "execution_count": null,
   "id": "e6311d6e",
   "metadata": {},
   "outputs": [],
   "source": [
    "x, y = resample(df)\n",
    "y_t = np.asarray(y).astype(\"datetime64[ns]\")\n",
    "x_t = np.asarray(x)\n",
    "\n",
    "pdf.resample(\"1W\").Open.mean()"
   ]
  },
  {
   "cell_type": "code",
   "execution_count": null,
   "id": "c9c05bdb",
   "metadata": {},
   "outputs": [],
   "source": [
    "%timeit pdf.Open.resample(\"1W\").mean()"
   ]
  },
  {
   "cell_type": "code",
   "execution_count": null,
   "id": "929169d0",
   "metadata": {},
   "outputs": [],
   "source": [
    "%timeit resample(frame)"
   ]
  },
  {
   "cell_type": "code",
   "execution_count": null,
   "id": "afb0057a",
   "metadata": {},
   "outputs": [],
   "source": [
    "pd.Series(x_t, index=y_t)"
   ]
  },
  {
   "cell_type": "code",
   "execution_count": null,
   "id": "6ec2ea9c",
   "metadata": {},
   "outputs": [],
   "source": [
    "# 10^9 ns = 1 sec\n",
    "# 60 sec = 1 min\n",
    "# 60 min = 1 hour\n",
    "# 24 hours = 1 day\n",
    "10 ** 9 * 60 * 60 * 24"
   ]
  },
  {
   "cell_type": "code",
   "execution_count": null,
   "id": "e72d6207",
   "metadata": {},
   "outputs": [],
   "source": [
    "class conversions:\n",
    "    s = 10 ** 9 # ns\n",
    "    m = 60 * (10**9) \n",
    "    h = 60 * 60 * (10**9) \n",
    "    D = 24 * 60 * 60 * (10**9)\n",
    "    W = 24 * 60 * 60 * (10**9) * 7"
   ]
  },
  {
   "cell_type": "code",
   "execution_count": null,
   "id": "a5c6fee8",
   "metadata": {},
   "outputs": [],
   "source": [
    "conversions.D"
   ]
  },
  {
   "cell_type": "code",
   "execution_count": null,
   "id": "bc1d5556",
   "metadata": {},
   "outputs": [],
   "source": [
    "(10 ** 9) * 60 * 60"
   ]
  },
  {
   "cell_type": "code",
   "execution_count": null,
   "id": "bac0241b",
   "metadata": {},
   "outputs": [],
   "source": [
    "dt = ns(pdf.index.values[96])\n",
    "date(dt), dt"
   ]
  },
  {
   "cell_type": "code",
   "execution_count": null,
   "id": "8c706e55",
   "metadata": {},
   "outputs": [],
   "source": [
    "dt = dt + conversions.s\n",
    "date(dt), dt"
   ]
  },
  {
   "cell_type": "code",
   "execution_count": null,
   "id": "d2014b29",
   "metadata": {},
   "outputs": [],
   "source": [
    "freq = \"1m\"\n",
    "def split_freq(freq):\n",
    "    return int(freq[:-1]), freq[-1]"
   ]
  },
  {
   "cell_type": "code",
   "execution_count": null,
   "id": "32a0c2b5",
   "metadata": {},
   "outputs": [],
   "source": [
    "def days_to_ns(days):\n",
    "    return days * 86400000000000"
   ]
  },
  {
   "cell_type": "code",
   "execution_count": null,
   "id": "5f81afe2",
   "metadata": {},
   "outputs": [],
   "source": [
    "interval, timeframe = split_freq(freq)\n",
    "\n",
    "# dt is in nanoseconds\n",
    "def floor_(dt, timeframe):\n",
    "    if timeframe == \"W\":\n",
    "        i = (dt // conversions.D) * conversions.D\n",
    "        d = i - ( ( (i - 259200000000000) % 7 ) * conversions.D)\n",
    "    else:\n",
    "        d = (dt // getattr(conversions, timeframe)) * getattr(conversions, timeframe)\n",
    "    return (d).astype(\"datetime64[ns]\")\n",
    "\n",
    "def ciel_(dt, timeframe):\n",
    "    if timeframe == \"W\":\n",
    "        i = np.ceil(dt / conversions.D) * conversions.D\n",
    "        d = i + ((7 - ( (i - 259200000000000) % 7 )) * conversions.D)\n",
    "    else:\n",
    "        d = np.ceil(dt / getattr(conversions, timeframe)) * getattr(conversions, timeframe)\n",
    "    return (d).astype(\"datetime64[ns]\")"
   ]
  },
  {
   "cell_type": "code",
   "execution_count": null,
   "id": "4f4a6909",
   "metadata": {},
   "outputs": [],
   "source": [
    "ciel_(dt, timeframe)"
   ]
  },
  {
   "cell_type": "code",
   "execution_count": null,
   "id": "32a990ba",
   "metadata": {},
   "outputs": [],
   "source": [
    "d = (dt // conversions.D) * conversions.D\n",
    "d"
   ]
  },
  {
   "cell_type": "code",
   "execution_count": null,
   "id": "72c34f9c",
   "metadata": {},
   "outputs": [],
   "source": [
    "m = (d - ( ( (d - 259200000000000) % 7 )) * conversions.D)\n",
    "m"
   ]
  },
  {
   "cell_type": "code",
   "execution_count": null,
   "id": "e5fc2d8c",
   "metadata": {},
   "outputs": [],
   "source": [
    "dt // conversions.D"
   ]
  },
  {
   "cell_type": "code",
   "execution_count": null,
   "id": "05952b24",
   "metadata": {},
   "outputs": [],
   "source": [
    "dt - 259200000000000"
   ]
  },
  {
   "cell_type": "code",
   "execution_count": null,
   "id": "3e939200",
   "metadata": {},
   "outputs": [],
   "source": [
    "np.datetime64(0, \"ns\")"
   ]
  },
  {
   "cell_type": "code",
   "execution_count": null,
   "id": "25dfd466",
   "metadata": {},
   "outputs": [],
   "source": [
    "(dt - d).astype(\"datetime64[ns]\")"
   ]
  },
  {
   "cell_type": "code",
   "execution_count": null,
   "id": "a1fc878f",
   "metadata": {},
   "outputs": [],
   "source": [
    "np.int64(264780000000000).astype(\"timedelta64[ns]\").astype(\"timedelta64[D]\")"
   ]
  },
  {
   "cell_type": "code",
   "execution_count": null,
   "id": "915155a9",
   "metadata": {},
   "outputs": [],
   "source": [
    "h = hours(date(dt))\n",
    "h"
   ]
  },
  {
   "cell_type": "code",
   "execution_count": null,
   "id": "cba0bae8",
   "metadata": {},
   "outputs": [],
   "source": [
    "def hours_to_ns(hours):\n",
    "    return hours * 60 * 60 * (10**9)"
   ]
  },
  {
   "cell_type": "code",
   "execution_count": null,
   "id": "89b50205",
   "metadata": {},
   "outputs": [],
   "source": [
    "date(hours_to_ns(h))"
   ]
  },
  {
   "cell_type": "code",
   "execution_count": null,
   "id": "b7f82781",
   "metadata": {},
   "outputs": [],
   "source": [
    "10 ** 9 * 60 * 60 * 24 *3"
   ]
  },
  {
   "cell_type": "code",
   "execution_count": null,
   "id": "e32894c3",
   "metadata": {},
   "outputs": [],
   "source": [
    "date(mins(dt1) % 60)"
   ]
  },
  {
   "cell_type": "code",
   "execution_count": null,
   "id": "1965dfd8",
   "metadata": {},
   "outputs": [],
   "source": [
    "mins(dt1) % 60"
   ]
  },
  {
   "cell_type": "code",
   "execution_count": null,
   "id": "015c5c7f",
   "metadata": {},
   "outputs": [],
   "source": [
    "def ns(dt):\n",
    "    return dt.astype(\"datetime64[ns]\").astype(\"int64\")\n",
    "def hours(dt):\n",
    "    return dt.astype(\"datetime64[h]\").astype(\"int64\")\n",
    "def mins(dt):\n",
    "    return dt.astype(\"datetime64[m]\").astype(\"int64\")\n",
    "def date(dt):\n",
    "    return dt.astype(\"datetime64[ns]\")"
   ]
  },
  {
   "cell_type": "code",
   "execution_count": null,
   "id": "9e7b4dae",
   "metadata": {},
   "outputs": [],
   "source": []
  },
  {
   "cell_type": "code",
   "execution_count": null,
   "id": "e977aec1",
   "metadata": {},
   "outputs": [],
   "source": [
    "dt2 = pdf.index.values[34].astype(\"datetime64[ns]\").astype(\"int64\")\n",
    "dt2"
   ]
  },
  {
   "cell_type": "code",
   "execution_count": null,
   "id": "b2ca832a",
   "metadata": {},
   "outputs": [],
   "source": [
    "dt / ((10 ** 9))"
   ]
  },
  {
   "cell_type": "code",
   "execution_count": null,
   "id": "d0ad8bcc",
   "metadata": {},
   "outputs": [],
   "source": [
    "1577838180000000000 % 6"
   ]
  },
  {
   "cell_type": "code",
   "execution_count": null,
   "id": "c46beb21",
   "metadata": {},
   "outputs": [],
   "source": [
    "# round to nearest hour\n",
    "dt / 60"
   ]
  },
  {
   "cell_type": "code",
   "execution_count": null,
   "id": "6bd5706b",
   "metadata": {},
   "outputs": [],
   "source": [
    "def weekday1(dt):\n",
    "    return ((dt.astype(\"int64\") - 3) % 7) * 86400000000000\n",
    "\n",
    "# W, D, h, m\n",
    "\n",
    "\n",
    "\n",
    "frame = df\n",
    "\n",
    "x = np.asarray(frame.index.keys_)\n",
    "index0 = x[0]\n",
    "indexLast = x[-1]\n",
    "\n",
    "start = (index0.astype('datetime64[D]').view('int64') - weekday1(index0)).astype(\"datetime64[D]\")\n",
    "stop = (indexLast.astype('datetime64[D]').view('int64') + (7 - weekday1(indexLast)).astype(\"datetime64[D]\"))\n",
    "\n",
    "td = np.timedelta64(1, \"W\").astype(\"timedelta64[ns]\").astype(\"int64\")\n",
    "\n",
    "bins = np.arange(start=start.astype(\"int64\"), stop=x[-1], step=td)\n",
    "\n",
    "d = np.digitize(x.astype(np.int64), bins.astype(np.int64), right=True)\n",
    "\n",
    "count = np.bincount(d)[1:]\n",
    "s = np.cumsum(count)\n",
    "splitted = np.split(frame.Open.values, s)[:-1]\n",
    "\n",
    "length = len(splitted)\n",
    "ret = np.zeros(length)\n",
    "for l in range(length):\n",
    "    ret[l] = np.average(splitted[l])"
   ]
  },
  {
   "cell_type": "code",
   "execution_count": null,
   "id": "ffe55e19",
   "metadata": {},
   "outputs": [],
   "source": [
    "%%cython\n",
    "\n",
    "import numpy as np\n",
    "cimport numpy as np\n",
    "\n",
    "def bincount(x):\n",
    "    cdef int[:] result = np.zeros(x.max() + 1, int)\n",
    "    cdef int i\n",
    "    for i in x:\n",
    "        result[i] += 1\n",
    "    return result"
   ]
  },
  {
   "cell_type": "code",
   "execution_count": null,
   "id": "fa6c801d",
   "metadata": {},
   "outputs": [],
   "source": [
    "c1 = np.bincount(d)\n",
    "c2 = bincount(d)"
   ]
  },
  {
   "cell_type": "code",
   "execution_count": null,
   "id": "0182b0e5",
   "metadata": {},
   "outputs": [],
   "source": [
    "%timeit np.bincount(d)"
   ]
  },
  {
   "cell_type": "code",
   "execution_count": null,
   "id": "612dd9d6",
   "metadata": {},
   "outputs": [],
   "source": [
    "%timeit bincount(d)"
   ]
  },
  {
   "cell_type": "code",
   "execution_count": null,
   "id": "8d7a75d2",
   "metadata": {},
   "outputs": [],
   "source": [
    "y[-1]"
   ]
  },
  {
   "cell_type": "code",
   "execution_count": null,
   "id": "894a7e6c",
   "metadata": {},
   "outputs": [],
   "source": [
    "indexLast.astype('datetime64[ns]')"
   ]
  },
  {
   "cell_type": "code",
   "execution_count": null,
   "id": "f06eb4e6",
   "metadata": {},
   "outputs": [],
   "source": [
    "np.int64(df.index.keys_[-1]).astype('datetime64[ns]')"
   ]
  },
  {
   "cell_type": "code",
   "execution_count": null,
   "id": "8f0f6687",
   "metadata": {},
   "outputs": [],
   "source": [
    "len(splitted)"
   ]
  },
  {
   "cell_type": "code",
   "execution_count": null,
   "id": "059744f0",
   "metadata": {},
   "outputs": [],
   "source": [
    "x, y = resample1(df)\n",
    "y = np.asarray(bins).astype(\"datetime64[ns]\")\n",
    "x_t = np.asarray(x)\n",
    "\n",
    "pdf.Open.resample(\"1W\").mean()"
   ]
  },
  {
   "cell_type": "code",
   "execution_count": null,
   "id": "a1010881",
   "metadata": {},
   "outputs": [],
   "source": []
  },
  {
   "cell_type": "code",
   "execution_count": null,
   "id": "903791ca",
   "metadata": {},
   "outputs": [],
   "source": [
    "pd.Series(x_t, index=y_t)"
   ]
  },
  {
   "cell_type": "code",
   "execution_count": null,
   "id": "795a8d00",
   "metadata": {},
   "outputs": [],
   "source": [
    "resample1(df)"
   ]
  },
  {
   "cell_type": "code",
   "execution_count": null,
   "id": "cf6c2813",
   "metadata": {},
   "outputs": [],
   "source": [
    "x = np.asarray(df.index.keys_)\n",
    "index0 = x[0]\n",
    "start = (index0 - weekday1(index0)).astype(\"datetime64[D]\")"
   ]
  },
  {
   "cell_type": "code",
   "execution_count": null,
   "id": "e3407a90",
   "metadata": {},
   "outputs": [],
   "source": [
    "start"
   ]
  },
  {
   "cell_type": "code",
   "execution_count": null,
   "id": "e0efa62e",
   "metadata": {},
   "outputs": [],
   "source": [
    "np.datetime64(index0 - (((index0 - (259200000000000)) % 7) * 86400000000000), \"ns\")"
   ]
  },
  {
   "cell_type": "code",
   "execution_count": null,
   "id": "e2da3e0b",
   "metadata": {},
   "outputs": [],
   "source": [
    "np.int64(index0).astype(\"datetime64[ns]\")"
   ]
  },
  {
   "cell_type": "code",
   "execution_count": null,
   "id": "9686f9de",
   "metadata": {},
   "outputs": [],
   "source": [
    "np.int64(index0 - (((index0 - (259200000000000)) % 7) * 86400000000000)).astype(\"datetime64[ns]\")"
   ]
  },
  {
   "cell_type": "code",
   "execution_count": null,
   "id": "80cc9684",
   "metadata": {},
   "outputs": [],
   "source": [
    "((index0 - (259200000000000)) % 7) * 86400000000000"
   ]
  }
 ],
 "metadata": {
  "kernelspec": {
   "display_name": "Python 3 (ipykernel)",
   "language": "python",
   "name": "python3"
  },
  "language_info": {
   "codemirror_mode": {
    "name": "ipython",
    "version": 3
   },
   "file_extension": ".py",
   "mimetype": "text/x-python",
   "name": "python",
   "nbconvert_exporter": "python",
   "pygments_lexer": "ipython3",
   "version": "3.9.5"
  }
 },
 "nbformat": 4,
 "nbformat_minor": 5
}
