{
 "cells": [
  {
   "cell_type": "code",
   "execution_count": 2,
   "id": "b59d9453",
   "metadata": {},
   "outputs": [],
   "source": [
    "%load_ext cython"
   ]
  },
  {
   "cell_type": "code",
   "execution_count": 7,
   "id": "f2fef675",
   "metadata": {},
   "outputs": [
    {
     "name": "stderr",
     "output_type": "stream",
     "text": [
      "\n",
      "Error compiling Cython file:\n",
      "------------------------------------------------------------\n",
      "...\n",
      "import numpy as np\n",
      "cimport numpy as cnp\n",
      "\n",
      "from cpython cimport str\n",
      "\n",
      "from util cimport datetime64, timedelta64, conversions, floor, ceil\n",
      "^\n",
      "------------------------------------------------------------\n",
      "\n",
      "C:\\Users\\evanw\\.ipython\\cython\\_cython_magic_9327b47deed85fa4491dae26ae9e6e16.pyx:7:0: 'util\\floor.pxd' not found\n",
      "\n",
      "Error compiling Cython file:\n",
      "------------------------------------------------------------\n",
      "...\n",
      "import numpy as np\n",
      "cimport numpy as cnp\n",
      "\n",
      "from cpython cimport str\n",
      "\n",
      "from util cimport datetime64, timedelta64, conversions, floor, ceil\n",
      "^\n",
      "------------------------------------------------------------\n",
      "\n",
      "C:\\Users\\evanw\\.ipython\\cython\\_cython_magic_9327b47deed85fa4491dae26ae9e6e16.pyx:7:0: 'util\\ceil.pxd' not found\n"
     ]
    }
   ],
   "source": [
    "%%cython\n",
    "\n",
    "import numpy as np\n",
    "cimport numpy as cnp\n",
    "\n",
    "from cpython cimport str\n",
    "\n",
    "from util cimport datetime64, timedelta64, conversions, floor, ceil\n",
    "\n",
    "# May change to double depending on what I use\n",
    "# this function for\n",
    "cdef inline cnp.int64_t ns_to_days(cnp.int64_t ns):\n",
    "    # 10^9 ns to 1 sec\n",
    "    # 60 sec to 1 min\n",
    "    # 60 min to 1 hour\n",
    "    # 24 hour to 1 day\n",
    "    # (10 ** 9) * 60 * 60 * 24\n",
    "    # 86400000000000 ns = 1 day\n",
    "    return ns / 86400000000000\n",
    "\n",
    "cdef inline cnp.int64_t days_to_ns(cnp.int64_t days):\n",
    "    return days * 86400000000000\n",
    "\n",
    "cdef split_freq(str freq):\n",
    "    return int(freq[:-1]), freq[-1]\n",
    "\n",
    "def resample(frame, freq):\n",
    "    cdef datetime64[:] index = frame.index.keys_\n",
    "    cdef datetime64 index0 = index[0]\n",
    "    \n",
    "#     cdef datetime64 week_start = index0 - weekday(index0)\n",
    "#     cdef datetime64 stop = index[-1] + (days_to_ns(7) - weekday(index[-1]))\n",
    "    \n",
    "    interval, timeframe = split_freq(freq)\n",
    "\n",
    "    # dt is in nanoseconds\n",
    "        \n",
    "    cdef timedelta64 td = np.timedelta64(1, \"W\").astype(\"timedelta64[ns]\").astype(\"int64\")\n",
    "    \n",
    "    cdef datetime64[:] bins = np.arange(\n",
    "        start = floor_(index[0], timeframe), \n",
    "        stop = ceil_(index[-1], timeframe), \n",
    "        step = np.timedelta64(interval, timeframe).astype(\"timedelta64[ns]\").astype(\"int64\")\n",
    "    )\n",
    "\n",
    "    cdef splitted = np.split(frame.Open.values, np.cumsum(\n",
    "        np.bincount(np.digitize(index, bins, right=False))[1:]\n",
    "    ))[:-1]\n",
    "    \n",
    "\n",
    "    cdef int length = len(splitted)\n",
    "    cdef double[:] ret = np.zeros(length)\n",
    "    \n",
    "    for l in range(length):\n",
    "        ret[l] = np.average(splitted[l])\n",
    "        \n",
    "    return ret, bins"
   ]
  },
  {
   "cell_type": "code",
   "execution_count": 5,
   "id": "581b2b2b",
   "metadata": {},
   "outputs": [],
   "source": [
    "%%cython\n",
    "\n",
    "def add():\n",
    "    return 5"
   ]
  },
  {
   "cell_type": "code",
   "execution_count": 4,
   "id": "0b92c971",
   "metadata": {},
   "outputs": [
    {
     "ename": "NameError",
     "evalue": "name 'resample' is not defined",
     "output_type": "error",
     "traceback": [
      "\u001b[1;31m---------------------------------------------------------------------------\u001b[0m",
      "\u001b[1;31mNameError\u001b[0m                                 Traceback (most recent call last)",
      "Input \u001b[1;32mIn [4]\u001b[0m, in \u001b[0;36m<cell line: 1>\u001b[1;34m()\u001b[0m\n\u001b[1;32m----> 1\u001b[0m \u001b[43mresample\u001b[49m\n",
      "\u001b[1;31mNameError\u001b[0m: name 'resample' is not defined"
     ]
    }
   ],
   "source": [
    "resample"
   ]
  },
  {
   "cell_type": "code",
   "execution_count": 6,
   "id": "6a79ac51",
   "metadata": {},
   "outputs": [
    {
     "data": {
      "text/plain": [
       "5"
      ]
     },
     "execution_count": 6,
     "metadata": {},
     "output_type": "execute_result"
    }
   ],
   "source": [
    "add()"
   ]
  }
 ],
 "metadata": {
  "kernelspec": {
   "display_name": "Python 3 (ipykernel)",
   "language": "python",
   "name": "python3"
  },
  "language_info": {
   "codemirror_mode": {
    "name": "ipython",
    "version": 3
   },
   "file_extension": ".py",
   "mimetype": "text/x-python",
   "name": "python",
   "nbconvert_exporter": "python",
   "pygments_lexer": "ipython3",
   "version": "3.9.5"
  }
 },
 "nbformat": 4,
 "nbformat_minor": 5
}
