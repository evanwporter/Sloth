{
 "cells": [
  {
   "cell_type": "code",
   "execution_count": 1,
   "id": "7df016b8",
   "metadata": {},
   "outputs": [],
   "source": [
    "%load_ext cython\n",
    "%load_ext heat"
   ]
  },
  {
   "cell_type": "code",
   "execution_count": 2,
   "id": "9f8f5340",
   "metadata": {},
   "outputs": [],
   "source": [
    "%load_ext line_profiler\n",
    "import line_profiler"
   ]
  },
  {
   "cell_type": "code",
   "execution_count": 3,
   "id": "db1a3c25",
   "metadata": {},
   "outputs": [],
   "source": [
    "import Cython"
   ]
  },
  {
   "cell_type": "code",
   "execution_count": 4,
   "id": "264b05bb",
   "metadata": {},
   "outputs": [],
   "source": [
    "#Set compiler directives (cf. http://docs.cython.org/src/reference/compilation.html)\n",
    "directive_defaults = Cython.Compiler.Options.get_directive_defaults() \n",
    "directive_defaults['linetrace'] = True\n",
    "directive_defaults['binding'] = True"
   ]
  },
  {
   "cell_type": "code",
   "execution_count": 5,
   "id": "eda3ba82",
   "metadata": {},
   "outputs": [],
   "source": [
    "from frame import DataFrame\n",
    "import pandas as pd\n",
    "import numpy as np\n",
    "\n",
    "pdf = pd.read_csv(r\"C:\\Users\\evanw\\OneDrive\\Desktop\\AT\\Data\\Binance-BTCUSDT.csv\", index_col=0)\n",
    "pdf.index = pd.to_datetime(pdf.index)\n",
    "\n",
    "df = DataFrame.from_pandas(pdf)"
   ]
  },
  {
   "cell_type": "code",
   "execution_count": 6,
   "id": "e315c8c3",
   "metadata": {},
   "outputs": [
    {
     "name": "stdout",
     "output_type": "stream",
     "text": [
      "7.22 ms ± 222 µs per loop (mean ± std. dev. of 7 runs, 100 loops each)\n"
     ]
    }
   ],
   "source": [
    "%timeit df.resample(\"f\").mean"
   ]
  },
  {
   "cell_type": "code",
   "execution_count": null,
   "id": "f1a77456",
   "metadata": {},
   "outputs": [],
   "source": [
    "%timeit pdf.Open.resample(\"1W\").mean()"
   ]
  },
  {
   "cell_type": "code",
   "execution_count": 9,
   "id": "dcc47547",
   "metadata": {},
   "outputs": [],
   "source": [
    "%%cython -f --compile-args=-DCYTHON_TRACE=1\n",
    "\n",
    "import numpy as np\n",
    "cimport numpy as cnp\n",
    "\n",
    "from util cimport datetime64, timedelta64\n",
    "\n",
    "# May change to double depending on what I use\n",
    "# this function for\n",
    "cdef inline cnp.int64_t ns_to_days(cnp.int64_t ns):\n",
    "    # 10^9 ns to 1 sec\n",
    "    # 60 sec to 1 min\n",
    "    # 60 min to 1 hour\n",
    "    # 24 hour to 1 day\n",
    "    # (10 ** 9) * 60 * 60 * 24\n",
    "    # 86400000000000 ns = 1 day\n",
    "    return ns / 86400000000000\n",
    "\n",
    "cdef inline cnp.int64_t days_to_ns(cnp.int64_t days):\n",
    "    return days * 86400000000000\n",
    "\n",
    "cdef inline cnp.int64_t weekday(cnp.int64_t dt):\n",
    "    # 259200000000000 ns = 3 days\n",
    "    return days_to_ns((dt - (259200000000000)) % 7)\n",
    "\n",
    "def resample(frame):\n",
    "    cdef datetime64[:] index = frame.index.keys_\n",
    "    cdef datetime64 index0 = index[0]\n",
    "    \n",
    "    cdef datetime64 week_start = index0 - weekday(index0)\n",
    "    cdef datetime64 stop = index[-1] + (days_to_ns(7) - weekday(index[-1]))\n",
    "        \n",
    "    cdef timedelta64 td = np.timedelta64(1, \"W\").astype(\"timedelta64[ns]\").astype(\"int64\")\n",
    "    \n",
    "    cdef datetime64[:] bins = np.arange(start=week_start, stop=stop, step=td)\n",
    "\n",
    "    cdef splitted = np.split(frame.Open.values, np.cumsum(\n",
    "        np.bincount(np.digitize(index, bins, right=False))[1:]\n",
    "    ))[:-1]\n",
    "    \n",
    "\n",
    "    cdef int length = len(splitted)\n",
    "    cdef double[:] ret = np.zeros(length)\n",
    "    \n",
    "    for l in range(length):\n",
    "        ret[l] = np.average(splitted[l])\n",
    "        \n",
    "    return ret, bins"
   ]
  },
  {
   "cell_type": "code",
   "execution_count": null,
   "id": "5ee7da5b",
   "metadata": {},
   "outputs": [],
   "source": []
  },
  {
   "cell_type": "code",
   "execution_count": null,
   "id": "c7d3ed0c",
   "metadata": {},
   "outputs": [],
   "source": [
    "#Print profiling statistics using the `line_profiler` API\n",
    "profile = line_profiler.LineProfiler(resample)\n",
    "profile.runcall(resample, df)\n",
    "profile.print_stats()"
   ]
  },
  {
   "cell_type": "code",
   "execution_count": null,
   "id": "cc263562",
   "metadata": {},
   "outputs": [],
   "source": [
    "%lprun -f approx_pi -f recip_square approx_pi(1000000)"
   ]
  },
  {
   "cell_type": "code",
   "execution_count": null,
   "id": "e6311d6e",
   "metadata": {},
   "outputs": [],
   "source": [
    "x, y = resample(df)\n",
    "y_t = np.asarray(y).astype(\"datetime64[ns]\")\n",
    "x_t = np.asarray(x)\n",
    "\n",
    "pdf.resample(\"1W\").Open.mean()"
   ]
  },
  {
   "cell_type": "code",
   "execution_count": null,
   "id": "c9c05bdb",
   "metadata": {},
   "outputs": [],
   "source": [
    "%timeit pdf.Open.resample(\"1W\").mean()"
   ]
  },
  {
   "cell_type": "code",
   "execution_count": null,
   "id": "929169d0",
   "metadata": {},
   "outputs": [],
   "source": [
    "%timeit resample(frame)"
   ]
  },
  {
   "cell_type": "code",
   "execution_count": null,
   "id": "afb0057a",
   "metadata": {},
   "outputs": [],
   "source": [
    "pd.Series(x_t, index=y_t)"
   ]
  },
  {
   "cell_type": "code",
   "execution_count": 10,
   "id": "6ec2ea9c",
   "metadata": {},
   "outputs": [
    {
     "data": {
      "text/plain": [
       "3600000000000"
      ]
     },
     "execution_count": 10,
     "metadata": {},
     "output_type": "execute_result"
    }
   ],
   "source": [
    "# 10^9 ns = 1 sec\n",
    "# 60 sec = 1 min\n",
    "# 60 min = 1 hour\n",
    "# 24 hours = 1 day\n",
    "10 ** 9 * 60 * 60"
   ]
  },
  {
   "cell_type": "code",
   "execution_count": null,
   "id": "bc1d5556",
   "metadata": {},
   "outputs": [],
   "source": []
  },
  {
   "cell_type": "code",
   "execution_count": 32,
   "id": "bac0241b",
   "metadata": {},
   "outputs": [
    {
     "data": {
      "text/plain": [
       "438288"
      ]
     },
     "execution_count": 32,
     "metadata": {},
     "output_type": "execute_result"
    }
   ],
   "source": [
    "dt = pdf.index.values[0].astype(\"datetime64[h]\").astype(\"int64\")\n",
    "dt"
   ]
  },
  {
   "cell_type": "code",
   "execution_count": 31,
   "id": "c46beb21",
   "metadata": {},
   "outputs": [
    {
     "data": {
      "text/plain": [
       "2.6297281e+16"
      ]
     },
     "execution_count": 31,
     "metadata": {},
     "output_type": "execute_result"
    }
   ],
   "source": [
    "# round to nearest hour\n",
    "dt / 60"
   ]
  },
  {
   "cell_type": "code",
   "execution_count": 11,
   "id": "6bd5706b",
   "metadata": {},
   "outputs": [],
   "source": [
    "def weekday1(dt):\n",
    "    return ((dt.astype(\"int64\") - 3) % 7) * 86400000000000\n",
    "\n",
    "# W, D, h, m\n",
    "\n",
    "\n",
    "\n",
    "frame = df\n",
    "\n",
    "x = np.asarray(frame.index.keys_)\n",
    "index0 = x[0]\n",
    "indexLast = x[-1]\n",
    "\n",
    "start = (index0.astype('datetime64[D]').view('int64') - weekday1(index0)).astype(\"datetime64[D]\")\n",
    "stop = (indexLast.astype('datetime64[D]').view('int64') + (7 - weekday1(indexLast)).astype(\"datetime64[D]\"))\n",
    "\n",
    "td = np.timedelta64(1, \"W\").astype(\"timedelta64[ns]\").astype(\"int64\")\n",
    "\n",
    "bins = np.arange(start=start.astype(\"int64\"), stop=x[-1], step=td)\n",
    "\n",
    "d = np.digitize(x.astype(np.int64), bins.astype(np.int64), right=True)\n",
    "\n",
    "count = np.bincount(d)[1:]\n",
    "s = np.cumsum(count)\n",
    "splitted = np.split(frame.Open.values, s)[:-1]\n",
    "\n",
    "length = len(splitted)\n",
    "ret = np.zeros(length)\n",
    "for l in range(length):\n",
    "    ret[l] = np.average(splitted[l])"
   ]
  },
  {
   "cell_type": "code",
   "execution_count": null,
   "id": "ffe55e19",
   "metadata": {},
   "outputs": [],
   "source": [
    "%%cython\n",
    "\n",
    "import numpy as np\n",
    "cimport numpy as np\n",
    "\n",
    "def bincount(x):\n",
    "    cdef int[:] result = np.zeros(x.max() + 1, int)\n",
    "    cdef int i\n",
    "    for i in x:\n",
    "        result[i] += 1\n",
    "    return result"
   ]
  },
  {
   "cell_type": "code",
   "execution_count": null,
   "id": "fa6c801d",
   "metadata": {},
   "outputs": [],
   "source": [
    "c1 = np.bincount(d)\n",
    "c2 = bincount(d)"
   ]
  },
  {
   "cell_type": "code",
   "execution_count": null,
   "id": "0182b0e5",
   "metadata": {},
   "outputs": [],
   "source": [
    "%timeit np.bincount(d)"
   ]
  },
  {
   "cell_type": "code",
   "execution_count": null,
   "id": "612dd9d6",
   "metadata": {},
   "outputs": [],
   "source": [
    "%timeit bincount(d)"
   ]
  },
  {
   "cell_type": "code",
   "execution_count": null,
   "id": "8d7a75d2",
   "metadata": {},
   "outputs": [],
   "source": [
    "y[-1]"
   ]
  },
  {
   "cell_type": "code",
   "execution_count": null,
   "id": "894a7e6c",
   "metadata": {},
   "outputs": [],
   "source": [
    "indexLast.astype('datetime64[ns]')"
   ]
  },
  {
   "cell_type": "code",
   "execution_count": null,
   "id": "f06eb4e6",
   "metadata": {},
   "outputs": [],
   "source": [
    "np.int64(df.index.keys_[-1]).astype('datetime64[ns]')"
   ]
  },
  {
   "cell_type": "code",
   "execution_count": null,
   "id": "8f0f6687",
   "metadata": {},
   "outputs": [],
   "source": [
    "len(splitted)"
   ]
  },
  {
   "cell_type": "code",
   "execution_count": null,
   "id": "059744f0",
   "metadata": {},
   "outputs": [],
   "source": [
    "x, y = resample1(df)\n",
    "y = np.asarray(bins).astype(\"datetime64[ns]\")\n",
    "x_t = np.asarray(x)\n",
    "\n",
    "pdf.Open.resample(\"1W\").mean()"
   ]
  },
  {
   "cell_type": "code",
   "execution_count": null,
   "id": "a1010881",
   "metadata": {},
   "outputs": [],
   "source": []
  },
  {
   "cell_type": "code",
   "execution_count": null,
   "id": "903791ca",
   "metadata": {},
   "outputs": [],
   "source": [
    "pd.Series(x_t, index=y_t)"
   ]
  },
  {
   "cell_type": "code",
   "execution_count": null,
   "id": "795a8d00",
   "metadata": {},
   "outputs": [],
   "source": [
    "resample1(df)"
   ]
  },
  {
   "cell_type": "code",
   "execution_count": null,
   "id": "cf6c2813",
   "metadata": {},
   "outputs": [],
   "source": [
    "x = np.asarray(df.index.keys_)\n",
    "index0 = x[0]\n",
    "start = (index0 - weekday1(index0)).astype(\"datetime64[D]\")"
   ]
  },
  {
   "cell_type": "code",
   "execution_count": null,
   "id": "e3407a90",
   "metadata": {},
   "outputs": [],
   "source": [
    "start"
   ]
  },
  {
   "cell_type": "code",
   "execution_count": null,
   "id": "e0efa62e",
   "metadata": {},
   "outputs": [],
   "source": [
    "np.datetime64(index0 - (((index0 - (259200000000000)) % 7) * 86400000000000), \"ns\")"
   ]
  },
  {
   "cell_type": "code",
   "execution_count": null,
   "id": "e2da3e0b",
   "metadata": {},
   "outputs": [],
   "source": [
    "np.int64(index0).astype(\"datetime64[ns]\")"
   ]
  },
  {
   "cell_type": "code",
   "execution_count": null,
   "id": "9686f9de",
   "metadata": {},
   "outputs": [],
   "source": [
    "np.int64(index0 - (((index0 - (259200000000000)) % 7) * 86400000000000)).astype(\"datetime64[ns]\")"
   ]
  },
  {
   "cell_type": "code",
   "execution_count": null,
   "id": "80cc9684",
   "metadata": {},
   "outputs": [],
   "source": [
    "((index0 - (259200000000000)) % 7) * 86400000000000"
   ]
  },
  {
   "cell_type": "code",
   "execution_count": null,
   "id": "b901b83e",
   "metadata": {},
   "outputs": [],
   "source": [
    "g = [0, 1, 2]\n",
    "g[:1]"
   ]
  }
 ],
 "metadata": {
  "kernelspec": {
   "display_name": "Python 3 (ipykernel)",
   "language": "python",
   "name": "python3"
  },
  "language_info": {
   "codemirror_mode": {
    "name": "ipython",
    "version": 3
   },
   "file_extension": ".py",
   "mimetype": "text/x-python",
   "name": "python",
   "nbconvert_exporter": "python",
   "pygments_lexer": "ipython3",
   "version": "3.9.5"
  }
 },
 "nbformat": 4,
 "nbformat_minor": 5
}
